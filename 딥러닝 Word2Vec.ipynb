{
 "cells": [
  {
   "cell_type": "markdown",
   "metadata": {},
   "source": [
    "## Bag of Words Meets Bags of Popcorn\n",
    "\n",
    "# 튜토리얼 파트 2 Word Vectors\n",
    "\n",
    "* 딥러닝 기법인 Word2Vec을 통해 단어를 벡터화 해본다. \n",
    "* t-SNE를 통해 벡터화 한 데이터를 시각화 해본다.\n",
    "* 딥러닝과 지도학습의 랜덤포레스트를 사용하는 하이브리드 방식을 사용한다.\n",
    "\n",
    "## Word2Vec(Word Embedding to Vector)\n",
    "\n",
    "컴퓨터는 숫자만 인식할 수 있고 한글, 이미지는 바이너리 코드로 저장 된다.\n",
    "튜토리얼 파트1에서는  Bag of Word라는 개념을 사용해서 문자를 벡터화 하여 머신러닝 알고리즘이 이해할 수 있도록 벡터화 해주는 작업을 하였다.\n",
    "\n",
    "\n",
    "* one hot encoding(예 [0000001000]) 혹은 Bag of Word에서 vector size가 매우 크고 sparse 하므로 neural net 성능이 잘 나오지 않는다.\n",
    "* `주위 단어가 비슷하면 해당 단어의 의미는 유사하다` 라는 아이디어\n",
    "* 단어를 트레이닝 시킬 때 주위 단어를 label로 매치하여 최적화\n",
    "* 단어를 `의미를 내포한 dense vector`로 매칭 시키는 것\n",
    "\n",
    "* Word2Vec은 분산 된 텍스트 표현을 사용하여 개념 간 유사성을 본다. 예를 들어, 파리와 프랑스가 베를린과 독일이 (수도와 나라) 같은 방식으로 관련되어 있음을 이해한다.\n",
    "\n",
    "![word2vec](https://1.bp.blogspot.com/-Q7F8ulD6fC0/UgvnVCSGmXI/AAAAAAAAAbg/MCWLTYBufhs/s1600/image00.gif)\n",
    "이미지 출처 : https://opensource.googleblog.com/2013/08/learning-meaning-behind-words.html\n",
    "\n",
    "* 단어의 임베딩과정을 실시간으로 시각화 : [word embedding visual inspector](https://ronxin.github.io/wevi/)\n",
    "\n",
    "\n",
    "![CBOW와 Skip-Gram](https://i.imgur.com/yXY1LxV.png)\n",
    "출처 : https://arxiv.org/pdf/1301.3781.pdf\n",
    " Tomas Mikolov, Ilya Sutskever, Kai Chen, Greg Corrado, and Jeffrey Dean. Distributed Representations of Words and Phrases and their Compositionality. In Proceedings of NIPS, 2013.\n",
    "\n",
    "\n",
    "* CBOW와 Skip-Gram기법이 있다.\n",
    "\n",
    "    * CBOW(continuous bag-of-words)는 전체 텍스트로 하나의 단어를 예측하기 때문에 작은 데이터셋일 수록 유리하다.    \n",
    "    * 아래 예제에서 __ 에 들어갈 단어를 예측한다.\n",
    "<pre>\n",
    "1) __가 맛있다. \n",
    "2) __를 타는 것이 재미있다. \n",
    "3) 평소보다 두 __로 많이 먹어서 __가 아프다.\n",
    "</pre>\n",
    "\n",
    "    * Skip-Gram은 타겟 단어들로부터 원본 단어를 역으로 예측하는 것이다. CBOW와는 반대로 컨텍스트-타겟 쌍을 새로운 발견으로 처리하고 큰 규모의 데이터셋을 가질 때 유리하다.\n",
    "    * `배`라는 단어 주변에 올 수 있는 단어를 예측한다.\n",
    "    \n",
    "    <pre>\n",
    "    1) *배*가 맛있다. \n",
    "    2) *배*를 타는 것이 재미있다. \n",
    "    3) 평소보다 두 *배*로 많이 먹어서 *배*가 아프다.\n",
    "    </pre>\n",
    "\n",
    "\n",
    "\n",
    "## Word2Vec 참고자료\n",
    "\n",
    "* [word2vec 모델 · 텐서플로우 문서 한글 번역본](https://tensorflowkorea.gitbooks.io/tensorflow-kr/g3doc/tutorials/word2vec/)\n",
    "* [Word2Vec으로 문장 분류하기 · ratsgo's blog](https://ratsgo.github.io/natural%20language%20processing/2017/03/08/word2vec/)\n",
    "\n",
    "* [Efficient Estimation of Word Representations in\n",
    "Vector Space](https://arxiv.org/pdf/1301.3781v3.pdf)\n",
    "* [Distributed Representations of Words and Phrases and their Compositionality](http://papers.nips.cc/paper/5021-distributed-representations-of-words-and-phrases-and-their-compositionality.pdf)\n",
    "* [CS224n: Natural Language Processing with Deep Learning](http://web.stanford.edu/class/cs224n/syllabus.html)\n",
    "* [Word2Vec Tutorial - The Skip-Gram Model · Chris McCormick](http://mccormickml.com/2016/04/19/word2vec-tutorial-the-skip-gram-model/)\n",
    "\n",
    "## Gensim\n",
    "\n",
    "* [gensim: models.word2vec – Deep learning with word2vec](https://radimrehurek.com/gensim/models/word2vec.html)\n",
    "* [gensim: Tutorials](https://radimrehurek.com/gensim/tutorial.html)\n",
    "* [한국어와 NLTK, Gensim의 만남 - PyCon Korea 2015](https://www.lucypark.kr/docs/2015-pyconkr/)\n",
    "\n"
   ]
  },
  {
   "cell_type": "code",
   "execution_count": 16,
   "metadata": {},
   "outputs": [],
   "source": [
    "import time"
   ]
  },
  {
   "cell_type": "code",
   "execution_count": 10,
   "metadata": {},
   "outputs": [
    {
     "name": "stdout",
     "output_type": "stream",
     "text": [
      "Requirement already satisfied: nltk in c:\\users\\diamond\\anaconda3\\lib\\site-packages (3.5)\n",
      "Requirement already satisfied: joblib in c:\\users\\diamond\\anaconda3\\lib\\site-packages (from nltk) (0.16.0)Note: you may need to restart the kernel to use updated packages.\n",
      "\n",
      "Requirement already satisfied: tqdm in c:\\users\\diamond\\anaconda3\\lib\\site-packages (from nltk) (4.47.0)\n",
      "Requirement already satisfied: click in c:\\users\\diamond\\anaconda3\\lib\\site-packages (from nltk) (7.1.2)\n",
      "Requirement already satisfied: regex in c:\\users\\diamond\\anaconda3\\lib\\site-packages (from nltk) (2020.6.8)\n"
     ]
    }
   ],
   "source": [
    "# pip install nltk"
   ]
  },
  {
   "cell_type": "code",
   "execution_count": 13,
   "metadata": {},
   "outputs": [
    {
     "name": "stderr",
     "output_type": "stream",
     "text": [
      "[nltk_data] Downloading package punkt to\n",
      "[nltk_data]     C:\\Users\\DIAMOND\\AppData\\Roaming\\nltk_data...\n",
      "[nltk_data]   Unzipping tokenizers\\punkt.zip.\n"
     ]
    },
    {
     "data": {
      "text/plain": [
       "True"
      ]
     },
     "execution_count": 13,
     "metadata": {},
     "output_type": "execute_result"
    }
   ],
   "source": [
    "# nltk.download('punkt')"
   ]
  },
  {
   "cell_type": "code",
   "execution_count": 1,
   "metadata": {},
   "outputs": [],
   "source": [
    "import warnings\n",
    "warnings.filterwarnings('ignore')"
   ]
  },
  {
   "cell_type": "code",
   "execution_count": 2,
   "metadata": {},
   "outputs": [
    {
     "name": "stdout",
     "output_type": "stream",
     "text": [
      "(25000, 3)\n",
      "(25000, 2)\n",
      "(50000, 2)\n"
     ]
    }
   ],
   "source": [
    "import pandas as pd\n",
    "\n",
    "train = pd.read_csv('data/labeledTrainData.tsv',\n",
    "                    header = 0,delimiter='\\t',quoting=3)\n",
    "test = pd.read_csv('data/testData.tsv',\n",
    "                   header = 0,delimiter='\\t',quoting=3)\n",
    "\n",
    "unlabeled_train = pd.read_csv('data/unlabeledTrainData.tsv',\n",
    "                             header = 0,delimiter='\\t',quoting=3)\n",
    "\n",
    "print(train.shape)\n",
    "print(test.shape)\n",
    "print(unlabeled_train.shape)"
   ]
  },
  {
   "cell_type": "code",
   "execution_count": 3,
   "metadata": {},
   "outputs": [
    {
     "data": {
      "text/html": [
       "<div>\n",
       "<style scoped>\n",
       "    .dataframe tbody tr th:only-of-type {\n",
       "        vertical-align: middle;\n",
       "    }\n",
       "\n",
       "    .dataframe tbody tr th {\n",
       "        vertical-align: top;\n",
       "    }\n",
       "\n",
       "    .dataframe thead th {\n",
       "        text-align: right;\n",
       "    }\n",
       "</style>\n",
       "<table border=\"1\" class=\"dataframe\">\n",
       "  <thead>\n",
       "    <tr style=\"text-align: right;\">\n",
       "      <th></th>\n",
       "      <th>id</th>\n",
       "      <th>sentiment</th>\n",
       "      <th>review</th>\n",
       "    </tr>\n",
       "  </thead>\n",
       "  <tbody>\n",
       "    <tr>\n",
       "      <th>0</th>\n",
       "      <td>\"5814_8\"</td>\n",
       "      <td>1</td>\n",
       "      <td>\"With all this stuff going down at the moment ...</td>\n",
       "    </tr>\n",
       "    <tr>\n",
       "      <th>1</th>\n",
       "      <td>\"2381_9\"</td>\n",
       "      <td>1</td>\n",
       "      <td>\"\\\"The Classic War of the Worlds\\\" by Timothy ...</td>\n",
       "    </tr>\n",
       "    <tr>\n",
       "      <th>2</th>\n",
       "      <td>\"7759_3\"</td>\n",
       "      <td>0</td>\n",
       "      <td>\"The film starts with a manager (Nicholas Bell...</td>\n",
       "    </tr>\n",
       "    <tr>\n",
       "      <th>3</th>\n",
       "      <td>\"3630_4\"</td>\n",
       "      <td>0</td>\n",
       "      <td>\"It must be assumed that those who praised thi...</td>\n",
       "    </tr>\n",
       "    <tr>\n",
       "      <th>4</th>\n",
       "      <td>\"9495_8\"</td>\n",
       "      <td>1</td>\n",
       "      <td>\"Superbly trashy and wondrously unpretentious ...</td>\n",
       "    </tr>\n",
       "  </tbody>\n",
       "</table>\n",
       "</div>"
      ],
      "text/plain": [
       "         id  sentiment                                             review\n",
       "0  \"5814_8\"          1  \"With all this stuff going down at the moment ...\n",
       "1  \"2381_9\"          1  \"\\\"The Classic War of the Worlds\\\" by Timothy ...\n",
       "2  \"7759_3\"          0  \"The film starts with a manager (Nicholas Bell...\n",
       "3  \"3630_4\"          0  \"It must be assumed that those who praised thi...\n",
       "4  \"9495_8\"          1  \"Superbly trashy and wondrously unpretentious ..."
      ]
     },
     "execution_count": 3,
     "metadata": {},
     "output_type": "execute_result"
    }
   ],
   "source": [
    "train.head()"
   ]
  },
  {
   "cell_type": "code",
   "execution_count": 4,
   "metadata": {},
   "outputs": [
    {
     "data": {
      "text/html": [
       "<div>\n",
       "<style scoped>\n",
       "    .dataframe tbody tr th:only-of-type {\n",
       "        vertical-align: middle;\n",
       "    }\n",
       "\n",
       "    .dataframe tbody tr th {\n",
       "        vertical-align: top;\n",
       "    }\n",
       "\n",
       "    .dataframe thead th {\n",
       "        text-align: right;\n",
       "    }\n",
       "</style>\n",
       "<table border=\"1\" class=\"dataframe\">\n",
       "  <thead>\n",
       "    <tr style=\"text-align: right;\">\n",
       "      <th></th>\n",
       "      <th>id</th>\n",
       "      <th>review</th>\n",
       "    </tr>\n",
       "  </thead>\n",
       "  <tbody>\n",
       "    <tr>\n",
       "      <th>0</th>\n",
       "      <td>\"12311_10\"</td>\n",
       "      <td>\"Naturally in a film who's main themes are of ...</td>\n",
       "    </tr>\n",
       "    <tr>\n",
       "      <th>1</th>\n",
       "      <td>\"8348_2\"</td>\n",
       "      <td>\"This movie is a disaster within a disaster fi...</td>\n",
       "    </tr>\n",
       "    <tr>\n",
       "      <th>2</th>\n",
       "      <td>\"5828_4\"</td>\n",
       "      <td>\"All in all, this is a movie for kids. We saw ...</td>\n",
       "    </tr>\n",
       "    <tr>\n",
       "      <th>3</th>\n",
       "      <td>\"7186_2\"</td>\n",
       "      <td>\"Afraid of the Dark left me with the impressio...</td>\n",
       "    </tr>\n",
       "    <tr>\n",
       "      <th>4</th>\n",
       "      <td>\"12128_7\"</td>\n",
       "      <td>\"A very accurate depiction of small time mob l...</td>\n",
       "    </tr>\n",
       "  </tbody>\n",
       "</table>\n",
       "</div>"
      ],
      "text/plain": [
       "           id                                             review\n",
       "0  \"12311_10\"  \"Naturally in a film who's main themes are of ...\n",
       "1    \"8348_2\"  \"This movie is a disaster within a disaster fi...\n",
       "2    \"5828_4\"  \"All in all, this is a movie for kids. We saw ...\n",
       "3    \"7186_2\"  \"Afraid of the Dark left me with the impressio...\n",
       "4   \"12128_7\"  \"A very accurate depiction of small time mob l..."
      ]
     },
     "execution_count": 4,
     "metadata": {},
     "output_type": "execute_result"
    }
   ],
   "source": [
    "test.head()"
   ]
  },
  {
   "cell_type": "code",
   "execution_count": 5,
   "metadata": {},
   "outputs": [
    {
     "data": {
      "text/html": [
       "<div>\n",
       "<style scoped>\n",
       "    .dataframe tbody tr th:only-of-type {\n",
       "        vertical-align: middle;\n",
       "    }\n",
       "\n",
       "    .dataframe tbody tr th {\n",
       "        vertical-align: top;\n",
       "    }\n",
       "\n",
       "    .dataframe thead th {\n",
       "        text-align: right;\n",
       "    }\n",
       "</style>\n",
       "<table border=\"1\" class=\"dataframe\">\n",
       "  <thead>\n",
       "    <tr style=\"text-align: right;\">\n",
       "      <th></th>\n",
       "      <th>id</th>\n",
       "      <th>review</th>\n",
       "    </tr>\n",
       "  </thead>\n",
       "  <tbody>\n",
       "    <tr>\n",
       "      <th>0</th>\n",
       "      <td>\"9999_0\"</td>\n",
       "      <td>\"Watching Time Chasers, it obvious that it was...</td>\n",
       "    </tr>\n",
       "    <tr>\n",
       "      <th>1</th>\n",
       "      <td>\"45057_0\"</td>\n",
       "      <td>\"I saw this film about 20 years ago and rememb...</td>\n",
       "    </tr>\n",
       "    <tr>\n",
       "      <th>2</th>\n",
       "      <td>\"15561_0\"</td>\n",
       "      <td>\"Minor Spoilers&lt;br /&gt;&lt;br /&gt;In New York, Joan B...</td>\n",
       "    </tr>\n",
       "    <tr>\n",
       "      <th>3</th>\n",
       "      <td>\"7161_0\"</td>\n",
       "      <td>\"I went to see this film with a great deal of ...</td>\n",
       "    </tr>\n",
       "    <tr>\n",
       "      <th>4</th>\n",
       "      <td>\"43971_0\"</td>\n",
       "      <td>\"Yes, I agree with everyone on this site this ...</td>\n",
       "    </tr>\n",
       "  </tbody>\n",
       "</table>\n",
       "</div>"
      ],
      "text/plain": [
       "          id                                             review\n",
       "0   \"9999_0\"  \"Watching Time Chasers, it obvious that it was...\n",
       "1  \"45057_0\"  \"I saw this film about 20 years ago and rememb...\n",
       "2  \"15561_0\"  \"Minor Spoilers<br /><br />In New York, Joan B...\n",
       "3   \"7161_0\"  \"I went to see this film with a great deal of ...\n",
       "4  \"43971_0\"  \"Yes, I agree with everyone on this site this ..."
      ]
     },
     "execution_count": 5,
     "metadata": {},
     "output_type": "execute_result"
    }
   ],
   "source": [
    "unlabeled_train.head()"
   ]
  },
  {
   "cell_type": "code",
   "execution_count": 6,
   "metadata": {},
   "outputs": [],
   "source": [
    "from KaggleWord2VecUtility import KaggleWord2VecUtility"
   ]
  },
  {
   "cell_type": "code",
   "execution_count": 7,
   "metadata": {},
   "outputs": [
    {
     "data": {
      "text/plain": [
       "['with', 'all', 'this', 'stuff', 'go', 'down', 'at', 'the', 'moment', 'with']"
      ]
     },
     "execution_count": 7,
     "metadata": {},
     "output_type": "execute_result"
    }
   ],
   "source": [
    "KaggleWord2VecUtility.review_to_wordlist(train['review'][0])[:10]"
   ]
  },
  {
   "cell_type": "code",
   "execution_count": 14,
   "metadata": {},
   "outputs": [],
   "source": [
    "%time\n",
    "sentences = []\n",
    "for review in train[\"review\"]:\n",
    "    sentences += KaggleWord2VecUtility.review_to_sentences(\n",
    "        review, remove_stopwords=False)"
   ]
  },
  {
   "cell_type": "code",
   "execution_count": 15,
   "metadata": {},
   "outputs": [],
   "source": [
    "%time\n",
    "for review in unlabeled_train[\"review\"]:\n",
    "    sentences += KaggleWord2VecUtility.review_to_sentences(\n",
    "        review, remove_stopwords=False)"
   ]
  },
  {
   "cell_type": "code",
   "execution_count": 20,
   "metadata": {},
   "outputs": [
    {
     "data": {
      "text/plain": [
       "795538"
      ]
     },
     "execution_count": 20,
     "metadata": {},
     "output_type": "execute_result"
    }
   ],
   "source": [
    "len(sentences)"
   ]
  },
  {
   "cell_type": "code",
   "execution_count": 21,
   "metadata": {},
   "outputs": [
    {
     "data": {
      "text/plain": [
       "['with', 'all', 'this', 'stuff', 'go', 'down', 'at', 'the', 'moment', 'with']"
      ]
     },
     "execution_count": 21,
     "metadata": {},
     "output_type": "execute_result"
    }
   ],
   "source": [
    "sentences[0][:10]"
   ]
  },
  {
   "cell_type": "code",
   "execution_count": 22,
   "metadata": {},
   "outputs": [
    {
     "data": {
      "text/plain": [
       "['mayb', 'i', 'just', 'want', 'to', 'get', 'a', 'certain', 'insight', 'into']"
      ]
     },
     "execution_count": 22,
     "metadata": {},
     "output_type": "execute_result"
    }
   ],
   "source": [
    "sentences[1][:10]"
   ]
  },
  {
   "cell_type": "markdown",
   "metadata": {},
   "source": [
    "### Word2Vec 모델을 학습\n",
    "전처리를 거쳐 파싱된 문장의 목록으로 모델을 학습시킬 준비가 되었다.\n",
    "\n",
    "## Gensim\n",
    "* [gensim: models.word2vec – Deep learning with word2vec](https://radimrehurek.com/gensim/models/word2vec.html)\n",
    "\n",
    "### Word2Vec 모델의 파라메터\n",
    "\n",
    "* 아키텍처 : 아키텍처 옵션은 skip-gram (default) 또는  CBOW 모델이다. skip-gram (default)은 느리지 만 더 나은 결과를 낸다.\n",
    "\n",
    "* 학습 알고리즘 : Hierarchical softmax (default) 또는 negative 샘플링. 여기에서는 기본값이 잘 동작한다.\n",
    "\n",
    "* 빈번하게 등장하는 단어에 대한 다운 샘플링 : Google 문서는 .00001에서 .001 사이의 값을 권장한다. 여기에서는 0.001에 가까운 값이 최종 모델의 정확도를 높이는 것으로 보여진다.\n",
    "\n",
    "* 단어 벡터 차원 : 많은 feature를 사용한다고 항상 좋은 것은 아니지만 대체적으로 좀 더 나은 모델이 된다. 합리적인 값은 수십에서 수백 개가 될 수 있고 여기에서는 300으로 지정했다.\n",
    "\n",
    "* 컨텍스트 / 창 크기 : 학습 알고리즘이 고려해야하는 컨텍스트의 단어 수는 얼마나 될까? hierarchical softmax 를 위해 좀 더 큰 수가 좋지만 10 정도가 적당하다. \n",
    "\n",
    "* Worker threads : 실행할 병렬 프로세스의 수로 컴퓨터마다 다르지만 대부분의 시스템에서 4에서 6 사이의 값을 사용하다.\n",
    "\n",
    "* 최소 단어 수 : 어휘의 크기를 의미있는 단어로 제한하는 데 도움이 된다. 모든 문서에서이 여러 번 발생하지 않는 단어는 무시된다. 10에서 100 사이가 적당하며, 이 경진대회의 데이터는 각 영화가 30개씩의 리뷰가 있기 때문에 개별 영화 제목에 너무 많은 중요성이 붙는 것을 피하기 위해 최소 단어 수를 40으로 설정한다. 그 결과 전체 어휘 크기는 약 15,000 단어가 된다. 높은 값은 제한 된 실행시간에 도움이 된다."
   ]
  },
  {
   "cell_type": "code",
   "execution_count": 29,
   "metadata": {},
   "outputs": [
    {
     "name": "stdout",
     "output_type": "stream",
     "text": [
      "Collecting gensimNote: you may need to restart the kernel to use updated packages.\n",
      "  Downloading gensim-3.8.3-cp38-cp38-win_amd64.whl (24.2 MB)\n",
      "Collecting Cython==0.29.14\n",
      "  Downloading Cython-0.29.14-cp38-cp38-win_amd64.whl (1.7 MB)\n",
      "Requirement already satisfied, skipping upgrade: scipy>=0.18.1 in c:\\users\\diamond\\anaconda3\\lib\\site-packages (from gensim) (1.5.0)\n",
      "Requirement already satisfied, skipping upgrade: numpy>=1.11.3 in c:\\users\\diamond\\anaconda3\\lib\\site-packages (from gensim) (1.18.5)\n",
      "Requirement already satisfied, skipping upgrade: six>=1.5.0 in c:\\users\\diamond\\anaconda3\\lib\\site-packages (from gensim) (1.15.0)\n",
      "Collecting smart-open>=1.8.1\n",
      "  Downloading smart_open-4.1.0.tar.gz (116 kB)\n",
      "Building wheels for collected packages: smart-open\n",
      "  Building wheel for smart-open (setup.py): started\n",
      "  Building wheel for smart-open (setup.py): finished with status 'done'\n",
      "  Created wheel for smart-open: filename=smart_open-4.1.0-py3-none-any.whl size=106210 sha256=e821e00c0bbf3562646e207223cbde929d2ac35f008fb573ce4462a633331011\n",
      "  Stored in directory: c:\\users\\diamond\\appdata\\local\\pip\\cache\\wheels\\74\\33\\8e\\37e22f50ce94856f37b3e23a93c648c194aa8d5a546083d09a\n",
      "Successfully built smart-open\n",
      "Installing collected packages: Cython, smart-open, gensim\n",
      "  Attempting uninstall: Cython\n",
      "    Found existing installation: Cython 0.29.21\n",
      "    Uninstalling Cython-0.29.21:\n",
      "      Successfully uninstalled Cython-0.29.21\n",
      "Successfully installed Cython-0.29.14 gensim-3.8.3 smart-open-4.1.0\n",
      "\n"
     ]
    }
   ],
   "source": [
    "# pip install --upgrade gensim"
   ]
  },
  {
   "cell_type": "code",
   "execution_count": 30,
   "metadata": {},
   "outputs": [],
   "source": [
    "import logging\n",
    "logging.basicConfig(format='%(asctime)s : %(levelname)s : %(message)s',\n",
    "                   level=logging.INFO)"
   ]
  },
  {
   "cell_type": "code",
   "execution_count": 31,
   "metadata": {},
   "outputs": [
    {
     "name": "stderr",
     "output_type": "stream",
     "text": [
      "2021-01-05 20:05:00,911 : INFO : collecting all words and their counts\n",
      "2021-01-05 20:05:00,913 : INFO : PROGRESS: at sentence #0, processed 0 words, keeping 0 word types\n",
      "2021-01-05 20:05:01,010 : INFO : PROGRESS: at sentence #10000, processed 225803 words, keeping 12465 word types\n",
      "2021-01-05 20:05:01,134 : INFO : PROGRESS: at sentence #20000, processed 451892 words, keeping 17070 word types\n",
      "2021-01-05 20:05:01,227 : INFO : PROGRESS: at sentence #30000, processed 671314 words, keeping 20370 word types\n",
      "2021-01-05 20:05:01,330 : INFO : PROGRESS: at sentence #40000, processed 897814 words, keeping 23125 word types\n",
      "2021-01-05 20:05:01,413 : INFO : PROGRESS: at sentence #50000, processed 1116962 words, keeping 25365 word types\n",
      "2021-01-05 20:05:01,483 : INFO : PROGRESS: at sentence #60000, processed 1338403 words, keeping 27283 word types\n",
      "2021-01-05 20:05:01,556 : INFO : PROGRESS: at sentence #70000, processed 1561579 words, keeping 29024 word types\n",
      "2021-01-05 20:05:01,626 : INFO : PROGRESS: at sentence #80000, processed 1780886 words, keeping 30603 word types\n",
      "2021-01-05 20:05:01,702 : INFO : PROGRESS: at sentence #90000, processed 2004995 words, keeping 32223 word types\n",
      "2021-01-05 20:05:01,771 : INFO : PROGRESS: at sentence #100000, processed 2226966 words, keeping 33579 word types\n",
      "2021-01-05 20:05:01,848 : INFO : PROGRESS: at sentence #110000, processed 2446580 words, keeping 34827 word types\n",
      "2021-01-05 20:05:01,925 : INFO : PROGRESS: at sentence #120000, processed 2668775 words, keeping 36183 word types\n",
      "2021-01-05 20:05:02,004 : INFO : PROGRESS: at sentence #130000, processed 2894303 words, keeping 37353 word types\n",
      "2021-01-05 20:05:02,081 : INFO : PROGRESS: at sentence #140000, processed 3107005 words, keeping 38376 word types\n",
      "2021-01-05 20:05:02,161 : INFO : PROGRESS: at sentence #150000, processed 3332627 words, keeping 39556 word types\n",
      "2021-01-05 20:05:02,237 : INFO : PROGRESS: at sentence #160000, processed 3555315 words, keeping 40629 word types\n",
      "2021-01-05 20:05:02,314 : INFO : PROGRESS: at sentence #170000, processed 3778655 words, keeping 41628 word types\n",
      "2021-01-05 20:05:02,389 : INFO : PROGRESS: at sentence #180000, processed 3999236 words, keeping 42599 word types\n",
      "2021-01-05 20:05:02,472 : INFO : PROGRESS: at sentence #190000, processed 4224449 words, keeping 43461 word types\n",
      "2021-01-05 20:05:02,559 : INFO : PROGRESS: at sentence #200000, processed 4448603 words, keeping 44301 word types\n",
      "2021-01-05 20:05:02,649 : INFO : PROGRESS: at sentence #210000, processed 4669967 words, keeping 45212 word types\n",
      "2021-01-05 20:05:02,744 : INFO : PROGRESS: at sentence #220000, processed 4894968 words, keeping 46134 word types\n",
      "2021-01-05 20:05:02,880 : INFO : PROGRESS: at sentence #230000, processed 5117546 words, keeping 46986 word types\n",
      "2021-01-05 20:05:02,958 : INFO : PROGRESS: at sentence #240000, processed 5345051 words, keeping 47854 word types\n",
      "2021-01-05 20:05:03,036 : INFO : PROGRESS: at sentence #250000, processed 5559166 words, keeping 48699 word types\n",
      "2021-01-05 20:05:03,116 : INFO : PROGRESS: at sentence #260000, processed 5779147 words, keeping 49469 word types\n",
      "2021-01-05 20:05:03,188 : INFO : PROGRESS: at sentence #270000, processed 6000436 words, keeping 50416 word types\n",
      "2021-01-05 20:05:03,267 : INFO : PROGRESS: at sentence #280000, processed 6226315 words, keeping 51640 word types\n",
      "2021-01-05 20:05:03,347 : INFO : PROGRESS: at sentence #290000, processed 6449475 words, keeping 52754 word types\n",
      "2021-01-05 20:05:03,426 : INFO : PROGRESS: at sentence #300000, processed 6674078 words, keeping 53755 word types\n",
      "2021-01-05 20:05:03,506 : INFO : PROGRESS: at sentence #310000, processed 6899392 words, keeping 54734 word types\n",
      "2021-01-05 20:05:03,619 : INFO : PROGRESS: at sentence #320000, processed 7124279 words, keeping 55770 word types\n",
      "2021-01-05 20:05:03,710 : INFO : PROGRESS: at sentence #330000, processed 7346022 words, keeping 56687 word types\n",
      "2021-01-05 20:05:03,803 : INFO : PROGRESS: at sentence #340000, processed 7575534 words, keeping 57629 word types\n",
      "2021-01-05 20:05:03,877 : INFO : PROGRESS: at sentence #350000, processed 7798804 words, keeping 58485 word types\n",
      "2021-01-05 20:05:03,948 : INFO : PROGRESS: at sentence #360000, processed 8019467 words, keeping 59345 word types\n",
      "2021-01-05 20:05:04,029 : INFO : PROGRESS: at sentence #370000, processed 8246659 words, keeping 60161 word types\n",
      "2021-01-05 20:05:04,137 : INFO : PROGRESS: at sentence #380000, processed 8471806 words, keeping 61069 word types\n",
      "2021-01-05 20:05:04,235 : INFO : PROGRESS: at sentence #390000, processed 8701556 words, keeping 61810 word types\n",
      "2021-01-05 20:05:04,320 : INFO : PROGRESS: at sentence #400000, processed 8924505 words, keeping 62546 word types\n",
      "2021-01-05 20:05:04,412 : INFO : PROGRESS: at sentence #410000, processed 9145855 words, keeping 63263 word types\n",
      "2021-01-05 20:05:04,514 : INFO : PROGRESS: at sentence #420000, processed 9366935 words, keeping 64024 word types\n",
      "2021-01-05 20:05:04,618 : INFO : PROGRESS: at sentence #430000, processed 9594472 words, keeping 64795 word types\n",
      "2021-01-05 20:05:04,695 : INFO : PROGRESS: at sentence #440000, processed 9821225 words, keeping 65539 word types\n",
      "2021-01-05 20:05:04,769 : INFO : PROGRESS: at sentence #450000, processed 10044987 words, keeping 66378 word types\n",
      "2021-01-05 20:05:04,845 : INFO : PROGRESS: at sentence #460000, processed 10277747 words, keeping 67158 word types\n",
      "2021-01-05 20:05:04,947 : INFO : PROGRESS: at sentence #470000, processed 10505672 words, keeping 67775 word types\n",
      "2021-01-05 20:05:05,031 : INFO : PROGRESS: at sentence #480000, processed 10726056 words, keeping 68500 word types\n",
      "2021-01-05 20:05:05,105 : INFO : PROGRESS: at sentence #490000, processed 10952800 words, keeping 69256 word types\n",
      "2021-01-05 20:05:05,182 : INFO : PROGRESS: at sentence #500000, processed 11174456 words, keeping 69892 word types\n",
      "2021-01-05 20:05:05,254 : INFO : PROGRESS: at sentence #510000, processed 11399731 words, keeping 70593 word types\n",
      "2021-01-05 20:05:05,334 : INFO : PROGRESS: at sentence #520000, processed 11623082 words, keeping 71267 word types\n",
      "2021-01-05 20:05:05,428 : INFO : PROGRESS: at sentence #530000, processed 11847480 words, keeping 71877 word types\n",
      "2021-01-05 20:05:05,503 : INFO : PROGRESS: at sentence #540000, processed 12072095 words, keeping 72537 word types\n",
      "2021-01-05 20:05:05,612 : INFO : PROGRESS: at sentence #550000, processed 12297646 words, keeping 73212 word types\n",
      "2021-01-05 20:05:05,683 : INFO : PROGRESS: at sentence #560000, processed 12518936 words, keeping 73861 word types\n",
      "2021-01-05 20:05:05,757 : INFO : PROGRESS: at sentence #570000, processed 12748083 words, keeping 74431 word types\n",
      "2021-01-05 20:05:05,839 : INFO : PROGRESS: at sentence #580000, processed 12969579 words, keeping 75087 word types\n",
      "2021-01-05 20:05:05,912 : INFO : PROGRESS: at sentence #590000, processed 13195103 words, keeping 75734 word types\n",
      "2021-01-05 20:05:05,989 : INFO : PROGRESS: at sentence #600000, processed 13417301 words, keeping 76295 word types\n",
      "2021-01-05 20:05:06,065 : INFO : PROGRESS: at sentence #610000, processed 13638324 words, keeping 76953 word types\n",
      "2021-01-05 20:05:06,144 : INFO : PROGRESS: at sentence #620000, processed 13864649 words, keeping 77504 word types\n",
      "2021-01-05 20:05:06,221 : INFO : PROGRESS: at sentence #630000, processed 14088935 words, keeping 78067 word types\n",
      "2021-01-05 20:05:06,297 : INFO : PROGRESS: at sentence #640000, processed 14309718 words, keeping 78693 word types\n",
      "2021-01-05 20:05:06,379 : INFO : PROGRESS: at sentence #650000, processed 14535474 words, keeping 79296 word types\n",
      "2021-01-05 20:05:06,455 : INFO : PROGRESS: at sentence #660000, processed 14758264 words, keeping 79865 word types\n",
      "2021-01-05 20:05:06,530 : INFO : PROGRESS: at sentence #670000, processed 14981657 words, keeping 80382 word types\n",
      "2021-01-05 20:05:06,609 : INFO : PROGRESS: at sentence #680000, processed 15206489 words, keeping 80913 word types\n",
      "2021-01-05 20:05:06,685 : INFO : PROGRESS: at sentence #690000, processed 15428682 words, keeping 81483 word types\n",
      "2021-01-05 20:05:06,757 : INFO : PROGRESS: at sentence #700000, processed 15657388 words, keeping 82075 word types\n",
      "2021-01-05 20:05:06,835 : INFO : PROGRESS: at sentence #710000, processed 15880377 words, keeping 82561 word types\n"
     ]
    },
    {
     "name": "stderr",
     "output_type": "stream",
     "text": [
      "2021-01-05 20:05:06,906 : INFO : PROGRESS: at sentence #720000, processed 16105664 words, keeping 83037 word types\n",
      "2021-01-05 20:05:06,995 : INFO : PROGRESS: at sentence #730000, processed 16332045 words, keeping 83572 word types\n",
      "2021-01-05 20:05:07,086 : INFO : PROGRESS: at sentence #740000, processed 16553078 words, keeping 84128 word types\n",
      "2021-01-05 20:05:07,171 : INFO : PROGRESS: at sentence #750000, processed 16771405 words, keeping 84600 word types\n",
      "2021-01-05 20:05:07,309 : INFO : PROGRESS: at sentence #760000, processed 16990809 words, keeping 85069 word types\n",
      "2021-01-05 20:05:07,432 : INFO : PROGRESS: at sentence #770000, processed 17217946 words, keeping 85645 word types\n",
      "2021-01-05 20:05:07,522 : INFO : PROGRESS: at sentence #780000, processed 17448092 words, keeping 86161 word types\n",
      "2021-01-05 20:05:07,600 : INFO : PROGRESS: at sentence #790000, processed 17675168 words, keeping 86666 word types\n",
      "2021-01-05 20:05:07,649 : INFO : collected 86997 word types from a corpus of 17798269 raw words and 795538 sentences\n",
      "2021-01-05 20:05:07,651 : INFO : Loading a fresh vocabulary\n",
      "2021-01-05 20:05:07,781 : INFO : effective_min_count=40 retains 11986 unique words (13% of original 86997, drops 75011)\n",
      "2021-01-05 20:05:07,783 : INFO : effective_min_count=40 leaves 17434031 word corpus (97% of original 17798269, drops 364238)\n",
      "2021-01-05 20:05:07,889 : INFO : deleting the raw counts dictionary of 86997 items\n",
      "2021-01-05 20:05:07,894 : INFO : sample=0.001 downsamples 50 most-common words\n",
      "2021-01-05 20:05:07,895 : INFO : downsampling leaves estimated 12872362 word corpus (73.8% of prior 17434031)\n",
      "2021-01-05 20:05:07,950 : INFO : estimated required memory for 11986 words and 300 dimensions: 34759400 bytes\n",
      "2021-01-05 20:05:07,951 : INFO : resetting layer weights\n",
      "2021-01-05 20:05:11,916 : INFO : training model with 4 workers on 11986 vocabulary and 300 features, using sg=0 hs=0 sample=0.001 negative=5 window=10\n",
      "2021-01-05 20:05:12,935 : INFO : EPOCH 1 - PROGRESS: at 2.97% examples, 381259 words/s, in_qsize 7, out_qsize 0\n",
      "2021-01-05 20:05:13,938 : INFO : EPOCH 1 - PROGRESS: at 5.92% examples, 381283 words/s, in_qsize 7, out_qsize 0\n",
      "2021-01-05 20:05:14,981 : INFO : EPOCH 1 - PROGRESS: at 8.50% examples, 357308 words/s, in_qsize 7, out_qsize 0\n",
      "2021-01-05 20:05:15,985 : INFO : EPOCH 1 - PROGRESS: at 11.32% examples, 357985 words/s, in_qsize 7, out_qsize 0\n",
      "2021-01-05 20:05:17,026 : INFO : EPOCH 1 - PROGRESS: at 14.67% examples, 368490 words/s, in_qsize 7, out_qsize 0\n",
      "2021-01-05 20:05:18,036 : INFO : EPOCH 1 - PROGRESS: at 17.69% examples, 370199 words/s, in_qsize 7, out_qsize 0\n",
      "2021-01-05 20:05:19,048 : INFO : EPOCH 1 - PROGRESS: at 20.96% examples, 376426 words/s, in_qsize 7, out_qsize 0\n",
      "2021-01-05 20:05:20,059 : INFO : EPOCH 1 - PROGRESS: at 24.33% examples, 382971 words/s, in_qsize 7, out_qsize 0\n",
      "2021-01-05 20:05:21,098 : INFO : EPOCH 1 - PROGRESS: at 27.47% examples, 383608 words/s, in_qsize 6, out_qsize 1\n",
      "2021-01-05 20:05:22,099 : INFO : EPOCH 1 - PROGRESS: at 30.32% examples, 382025 words/s, in_qsize 7, out_qsize 0\n",
      "2021-01-05 20:05:23,129 : INFO : EPOCH 1 - PROGRESS: at 33.50% examples, 382285 words/s, in_qsize 7, out_qsize 0\n",
      "2021-01-05 20:05:24,136 : INFO : EPOCH 1 - PROGRESS: at 36.79% examples, 385647 words/s, in_qsize 8, out_qsize 0\n",
      "2021-01-05 20:05:25,147 : INFO : EPOCH 1 - PROGRESS: at 39.80% examples, 385623 words/s, in_qsize 8, out_qsize 1\n",
      "2021-01-05 20:05:26,161 : INFO : EPOCH 1 - PROGRESS: at 43.14% examples, 388609 words/s, in_qsize 7, out_qsize 0\n",
      "2021-01-05 20:05:27,169 : INFO : EPOCH 1 - PROGRESS: at 46.50% examples, 391353 words/s, in_qsize 7, out_qsize 0\n",
      "2021-01-05 20:05:28,200 : INFO : EPOCH 1 - PROGRESS: at 49.61% examples, 391402 words/s, in_qsize 8, out_qsize 1\n",
      "2021-01-05 20:05:29,204 : INFO : EPOCH 1 - PROGRESS: at 52.67% examples, 391261 words/s, in_qsize 7, out_qsize 0\n",
      "2021-01-05 20:05:30,230 : INFO : EPOCH 1 - PROGRESS: at 55.83% examples, 391840 words/s, in_qsize 8, out_qsize 0\n",
      "2021-01-05 20:05:31,237 : INFO : EPOCH 1 - PROGRESS: at 59.22% examples, 394556 words/s, in_qsize 7, out_qsize 0\n",
      "2021-01-05 20:05:32,251 : INFO : EPOCH 1 - PROGRESS: at 62.30% examples, 394419 words/s, in_qsize 7, out_qsize 0\n",
      "2021-01-05 20:05:33,275 : INFO : EPOCH 1 - PROGRESS: at 65.57% examples, 395125 words/s, in_qsize 7, out_qsize 0\n",
      "2021-01-05 20:05:34,278 : INFO : EPOCH 1 - PROGRESS: at 68.98% examples, 397097 words/s, in_qsize 7, out_qsize 0\n",
      "2021-01-05 20:05:35,290 : INFO : EPOCH 1 - PROGRESS: at 71.99% examples, 396602 words/s, in_qsize 8, out_qsize 0\n",
      "2021-01-05 20:05:36,326 : INFO : EPOCH 1 - PROGRESS: at 74.85% examples, 394894 words/s, in_qsize 8, out_qsize 1\n",
      "2021-01-05 20:05:37,325 : INFO : EPOCH 1 - PROGRESS: at 78.26% examples, 396685 words/s, in_qsize 6, out_qsize 1\n",
      "2021-01-05 20:05:38,363 : INFO : EPOCH 1 - PROGRESS: at 81.81% examples, 398306 words/s, in_qsize 7, out_qsize 0\n",
      "2021-01-05 20:05:39,396 : INFO : EPOCH 1 - PROGRESS: at 84.83% examples, 397523 words/s, in_qsize 8, out_qsize 0\n",
      "2021-01-05 20:05:40,419 : INFO : EPOCH 1 - PROGRESS: at 88.18% examples, 398449 words/s, in_qsize 7, out_qsize 0\n",
      "2021-01-05 20:05:41,421 : INFO : EPOCH 1 - PROGRESS: at 91.49% examples, 399351 words/s, in_qsize 7, out_qsize 0\n",
      "2021-01-05 20:05:42,428 : INFO : EPOCH 1 - PROGRESS: at 94.83% examples, 400124 words/s, in_qsize 8, out_qsize 0\n",
      "2021-01-05 20:05:43,463 : INFO : EPOCH 1 - PROGRESS: at 97.73% examples, 398883 words/s, in_qsize 8, out_qsize 0\n",
      "2021-01-05 20:05:44,101 : INFO : worker thread finished; awaiting finish of 3 more threads\n",
      "2021-01-05 20:05:44,105 : INFO : worker thread finished; awaiting finish of 2 more threads\n",
      "2021-01-05 20:05:44,109 : INFO : worker thread finished; awaiting finish of 1 more threads\n",
      "2021-01-05 20:05:44,150 : INFO : worker thread finished; awaiting finish of 0 more threads\n",
      "2021-01-05 20:05:44,152 : INFO : EPOCH - 1 : training on 17798269 raw words (12873756 effective words) took 32.2s, 399538 effective words/s\n",
      "2021-01-05 20:05:45,171 : INFO : EPOCH 2 - PROGRESS: at 3.25% examples, 418203 words/s, in_qsize 7, out_qsize 0\n",
      "2021-01-05 20:05:46,184 : INFO : EPOCH 2 - PROGRESS: at 6.62% examples, 422597 words/s, in_qsize 8, out_qsize 0\n",
      "2021-01-05 20:05:47,290 : INFO : EPOCH 2 - PROGRESS: at 9.11% examples, 374661 words/s, in_qsize 8, out_qsize 2\n",
      "2021-01-05 20:05:48,325 : INFO : EPOCH 2 - PROGRESS: at 12.01% examples, 369969 words/s, in_qsize 7, out_qsize 0\n",
      "2021-01-05 20:05:49,354 : INFO : EPOCH 2 - PROGRESS: at 15.40% examples, 380177 words/s, in_qsize 7, out_qsize 0\n",
      "2021-01-05 20:05:50,366 : INFO : EPOCH 2 - PROGRESS: at 18.30% examples, 377499 words/s, in_qsize 7, out_qsize 0\n",
      "2021-01-05 20:05:51,379 : INFO : EPOCH 2 - PROGRESS: at 21.29% examples, 377557 words/s, in_qsize 7, out_qsize 0\n",
      "2021-01-05 20:05:52,381 : INFO : EPOCH 2 - PROGRESS: at 24.67% examples, 384209 words/s, in_qsize 8, out_qsize 0\n",
      "2021-01-05 20:05:53,401 : INFO : EPOCH 2 - PROGRESS: at 28.08% examples, 389409 words/s, in_qsize 8, out_qsize 0\n",
      "2021-01-05 20:05:54,416 : INFO : EPOCH 2 - PROGRESS: at 30.80% examples, 384611 words/s, in_qsize 8, out_qsize 0\n",
      "2021-01-05 20:05:55,437 : INFO : EPOCH 2 - PROGRESS: at 34.05% examples, 386235 words/s, in_qsize 7, out_qsize 0\n",
      "2021-01-05 20:05:56,439 : INFO : EPOCH 2 - PROGRESS: at 37.68% examples, 392936 words/s, in_qsize 7, out_qsize 0\n",
      "2021-01-05 20:05:57,493 : INFO : EPOCH 2 - PROGRESS: at 40.97% examples, 393833 words/s, in_qsize 8, out_qsize 0\n",
      "2021-01-05 20:05:58,503 : INFO : EPOCH 2 - PROGRESS: at 43.98% examples, 393336 words/s, in_qsize 8, out_qsize 0\n",
      "2021-01-05 20:05:59,549 : INFO : EPOCH 2 - PROGRESS: at 47.78% examples, 398451 words/s, in_qsize 7, out_qsize 0\n",
      "2021-01-05 20:06:00,552 : INFO : EPOCH 2 - PROGRESS: at 51.36% examples, 402268 words/s, in_qsize 7, out_qsize 0\n",
      "2021-01-05 20:06:01,596 : INFO : EPOCH 2 - PROGRESS: at 54.87% examples, 404264 words/s, in_qsize 7, out_qsize 0\n",
      "2021-01-05 20:06:02,632 : INFO : EPOCH 2 - PROGRESS: at 58.01% examples, 403823 words/s, in_qsize 6, out_qsize 1\n",
      "2021-01-05 20:06:03,663 : INFO : EPOCH 2 - PROGRESS: at 61.52% examples, 405795 words/s, in_qsize 8, out_qsize 1\n",
      "2021-01-05 20:06:04,665 : INFO : EPOCH 2 - PROGRESS: at 65.29% examples, 409581 words/s, in_qsize 7, out_qsize 0\n"
     ]
    },
    {
     "name": "stderr",
     "output_type": "stream",
     "text": [
      "2021-01-05 20:06:05,669 : INFO : EPOCH 2 - PROGRESS: at 68.77% examples, 411248 words/s, in_qsize 6, out_qsize 1\n",
      "2021-01-05 20:06:06,691 : INFO : EPOCH 2 - PROGRESS: at 72.32% examples, 413126 words/s, in_qsize 7, out_qsize 0\n",
      "2021-01-05 20:06:07,716 : INFO : EPOCH 2 - PROGRESS: at 75.99% examples, 415079 words/s, in_qsize 8, out_qsize 0\n",
      "2021-01-05 20:06:08,778 : INFO : EPOCH 2 - PROGRESS: at 79.63% examples, 416250 words/s, in_qsize 7, out_qsize 0\n",
      "2021-01-05 20:06:09,781 : INFO : EPOCH 2 - PROGRESS: at 82.99% examples, 416839 words/s, in_qsize 7, out_qsize 0\n",
      "2021-01-05 20:06:10,784 : INFO : EPOCH 2 - PROGRESS: at 86.30% examples, 417162 words/s, in_qsize 8, out_qsize 0\n",
      "2021-01-05 20:06:11,798 : INFO : EPOCH 2 - PROGRESS: at 89.97% examples, 419085 words/s, in_qsize 7, out_qsize 0\n",
      "2021-01-05 20:06:12,806 : INFO : EPOCH 2 - PROGRESS: at 93.12% examples, 418446 words/s, in_qsize 7, out_qsize 0\n",
      "2021-01-05 20:06:13,808 : INFO : EPOCH 2 - PROGRESS: at 96.75% examples, 419905 words/s, in_qsize 8, out_qsize 0\n",
      "2021-01-05 20:06:14,670 : INFO : worker thread finished; awaiting finish of 3 more threads\n",
      "2021-01-05 20:06:14,702 : INFO : worker thread finished; awaiting finish of 2 more threads\n",
      "2021-01-05 20:06:14,709 : INFO : worker thread finished; awaiting finish of 1 more threads\n",
      "2021-01-05 20:06:14,718 : INFO : worker thread finished; awaiting finish of 0 more threads\n",
      "2021-01-05 20:06:14,719 : INFO : EPOCH - 2 : training on 17798269 raw words (12871775 effective words) took 30.6s, 421324 effective words/s\n",
      "2021-01-05 20:06:15,743 : INFO : EPOCH 3 - PROGRESS: at 2.97% examples, 379129 words/s, in_qsize 7, out_qsize 0\n",
      "2021-01-05 20:06:16,748 : INFO : EPOCH 3 - PROGRESS: at 6.35% examples, 404995 words/s, in_qsize 7, out_qsize 0\n",
      "2021-01-05 20:06:17,760 : INFO : EPOCH 3 - PROGRESS: at 9.98% examples, 422180 words/s, in_qsize 7, out_qsize 0\n",
      "2021-01-05 20:06:18,769 : INFO : EPOCH 3 - PROGRESS: at 13.37% examples, 424214 words/s, in_qsize 7, out_qsize 0\n",
      "2021-01-05 20:06:19,772 : INFO : EPOCH 3 - PROGRESS: at 16.44% examples, 417210 words/s, in_qsize 7, out_qsize 0\n",
      "2021-01-05 20:06:20,784 : INFO : EPOCH 3 - PROGRESS: at 20.16% examples, 426080 words/s, in_qsize 8, out_qsize 0\n",
      "2021-01-05 20:06:21,792 : INFO : EPOCH 3 - PROGRESS: at 23.76% examples, 430731 words/s, in_qsize 7, out_qsize 0\n",
      "2021-01-05 20:06:22,807 : INFO : EPOCH 3 - PROGRESS: at 26.97% examples, 427454 words/s, in_qsize 7, out_qsize 0\n",
      "2021-01-05 20:06:23,833 : INFO : EPOCH 3 - PROGRESS: at 30.20% examples, 425353 words/s, in_qsize 8, out_qsize 1\n",
      "2021-01-05 20:06:24,835 : INFO : EPOCH 3 - PROGRESS: at 34.10% examples, 431661 words/s, in_qsize 7, out_qsize 0\n",
      "2021-01-05 20:06:25,861 : INFO : EPOCH 3 - PROGRESS: at 37.68% examples, 433314 words/s, in_qsize 7, out_qsize 0\n",
      "2021-01-05 20:06:26,865 : INFO : EPOCH 3 - PROGRESS: at 41.42% examples, 437403 words/s, in_qsize 7, out_qsize 0\n",
      "2021-01-05 20:06:27,887 : INFO : EPOCH 3 - PROGRESS: at 44.32% examples, 431977 words/s, in_qsize 7, out_qsize 0\n",
      "2021-01-05 20:06:28,895 : INFO : EPOCH 3 - PROGRESS: at 47.89% examples, 433890 words/s, in_qsize 7, out_qsize 0\n",
      "2021-01-05 20:06:29,912 : INFO : EPOCH 3 - PROGRESS: at 51.31% examples, 433836 words/s, in_qsize 8, out_qsize 0\n",
      "2021-01-05 20:06:30,940 : INFO : EPOCH 3 - PROGRESS: at 54.37% examples, 430789 words/s, in_qsize 7, out_qsize 0\n",
      "2021-01-05 20:06:31,948 : INFO : EPOCH 3 - PROGRESS: at 57.79% examples, 431550 words/s, in_qsize 7, out_qsize 0\n",
      "2021-01-05 20:06:32,958 : INFO : EPOCH 3 - PROGRESS: at 61.30% examples, 432597 words/s, in_qsize 7, out_qsize 0\n",
      "2021-01-05 20:06:33,989 : INFO : EPOCH 3 - PROGRESS: at 64.44% examples, 430450 words/s, in_qsize 6, out_qsize 1\n",
      "2021-01-05 20:06:35,010 : INFO : EPOCH 3 - PROGRESS: at 68.10% examples, 431929 words/s, in_qsize 8, out_qsize 0\n",
      "2021-01-05 20:06:36,010 : INFO : EPOCH 3 - PROGRESS: at 71.76% examples, 434033 words/s, in_qsize 7, out_qsize 0\n",
      "2021-01-05 20:06:37,027 : INFO : EPOCH 3 - PROGRESS: at 75.25% examples, 434324 words/s, in_qsize 8, out_qsize 0\n",
      "2021-01-05 20:06:38,027 : INFO : EPOCH 3 - PROGRESS: at 78.10% examples, 431492 words/s, in_qsize 7, out_qsize 0\n",
      "2021-01-05 20:06:39,030 : INFO : EPOCH 3 - PROGRESS: at 81.15% examples, 429718 words/s, in_qsize 7, out_qsize 0\n",
      "2021-01-05 20:06:40,030 : INFO : EPOCH 3 - PROGRESS: at 84.34% examples, 429002 words/s, in_qsize 8, out_qsize 0\n",
      "2021-01-05 20:06:41,054 : INFO : EPOCH 3 - PROGRESS: at 87.69% examples, 428752 words/s, in_qsize 8, out_qsize 0\n",
      "2021-01-05 20:06:42,056 : INFO : EPOCH 3 - PROGRESS: at 90.87% examples, 428096 words/s, in_qsize 7, out_qsize 0\n",
      "2021-01-05 20:06:43,066 : INFO : EPOCH 3 - PROGRESS: at 94.16% examples, 427614 words/s, in_qsize 7, out_qsize 0\n",
      "2021-01-05 20:06:44,071 : INFO : EPOCH 3 - PROGRESS: at 97.67% examples, 428481 words/s, in_qsize 7, out_qsize 0\n",
      "2021-01-05 20:06:44,863 : INFO : worker thread finished; awaiting finish of 3 more threads\n",
      "2021-01-05 20:06:44,877 : INFO : worker thread finished; awaiting finish of 2 more threads\n",
      "2021-01-05 20:06:44,907 : INFO : worker thread finished; awaiting finish of 1 more threads\n",
      "2021-01-05 20:06:44,910 : INFO : worker thread finished; awaiting finish of 0 more threads\n",
      "2021-01-05 20:06:44,911 : INFO : EPOCH - 3 : training on 17798269 raw words (12873387 effective words) took 30.2s, 426584 effective words/s\n",
      "2021-01-05 20:06:45,932 : INFO : EPOCH 4 - PROGRESS: at 3.02% examples, 389207 words/s, in_qsize 7, out_qsize 0\n",
      "2021-01-05 20:06:46,944 : INFO : EPOCH 4 - PROGRESS: at 6.62% examples, 422783 words/s, in_qsize 7, out_qsize 0\n",
      "2021-01-05 20:06:47,962 : INFO : EPOCH 4 - PROGRESS: at 10.15% examples, 428548 words/s, in_qsize 7, out_qsize 0\n",
      "2021-01-05 20:06:48,974 : INFO : EPOCH 4 - PROGRESS: at 12.80% examples, 405222 words/s, in_qsize 8, out_qsize 0\n",
      "2021-01-05 20:06:49,996 : INFO : EPOCH 4 - PROGRESS: at 15.79% examples, 399119 words/s, in_qsize 6, out_qsize 1\n",
      "2021-01-05 20:06:51,000 : INFO : EPOCH 4 - PROGRESS: at 19.09% examples, 401978 words/s, in_qsize 7, out_qsize 0\n",
      "2021-01-05 20:06:52,028 : INFO : EPOCH 4 - PROGRESS: at 21.98% examples, 395704 words/s, in_qsize 7, out_qsize 0\n",
      "2021-01-05 20:06:53,080 : INFO : EPOCH 4 - PROGRESS: at 24.55% examples, 385381 words/s, in_qsize 6, out_qsize 1\n",
      "2021-01-05 20:06:54,106 : INFO : EPOCH 4 - PROGRESS: at 27.74% examples, 387073 words/s, in_qsize 7, out_qsize 0\n",
      "2021-01-05 20:06:55,160 : INFO : EPOCH 4 - PROGRESS: at 30.80% examples, 385226 words/s, in_qsize 7, out_qsize 0\n",
      "2021-01-05 20:06:56,195 : INFO : EPOCH 4 - PROGRESS: at 33.44% examples, 379291 words/s, in_qsize 7, out_qsize 0\n",
      "2021-01-05 20:06:57,221 : INFO : EPOCH 4 - PROGRESS: at 36.29% examples, 377569 words/s, in_qsize 7, out_qsize 0\n",
      "2021-01-05 20:06:58,233 : INFO : EPOCH 4 - PROGRESS: at 39.36% examples, 378715 words/s, in_qsize 8, out_qsize 0\n",
      "2021-01-05 20:06:59,245 : INFO : EPOCH 4 - PROGRESS: at 42.74% examples, 382717 words/s, in_qsize 8, out_qsize 0\n",
      "2021-01-05 20:07:00,259 : INFO : EPOCH 4 - PROGRESS: at 46.50% examples, 388964 words/s, in_qsize 7, out_qsize 0\n",
      "2021-01-05 20:07:01,279 : INFO : EPOCH 4 - PROGRESS: at 50.22% examples, 394317 words/s, in_qsize 7, out_qsize 0\n",
      "2021-01-05 20:07:02,281 : INFO : EPOCH 4 - PROGRESS: at 54.05% examples, 399810 words/s, in_qsize 7, out_qsize 0\n",
      "2021-01-05 20:07:03,310 : INFO : EPOCH 4 - PROGRESS: at 57.31% examples, 400549 words/s, in_qsize 8, out_qsize 0\n",
      "2021-01-05 20:07:04,321 : INFO : EPOCH 4 - PROGRESS: at 60.90% examples, 403878 words/s, in_qsize 7, out_qsize 0\n",
      "2021-01-05 20:07:05,322 : INFO : EPOCH 4 - PROGRESS: at 64.44% examples, 406352 words/s, in_qsize 8, out_qsize 0\n",
      "2021-01-05 20:07:06,362 : INFO : EPOCH 4 - PROGRESS: at 67.69% examples, 406159 words/s, in_qsize 8, out_qsize 1\n",
      "2021-01-05 20:07:07,401 : INFO : EPOCH 4 - PROGRESS: at 71.33% examples, 408283 words/s, in_qsize 7, out_qsize 0\n",
      "2021-01-05 20:07:08,423 : INFO : EPOCH 4 - PROGRESS: at 75.08% examples, 411127 words/s, in_qsize 8, out_qsize 1\n",
      "2021-01-05 20:07:09,431 : INFO : EPOCH 4 - PROGRESS: at 78.95% examples, 414550 words/s, in_qsize 8, out_qsize 0\n",
      "2021-01-05 20:07:10,451 : INFO : EPOCH 4 - PROGRESS: at 82.38% examples, 415203 words/s, in_qsize 8, out_qsize 0\n",
      "2021-01-05 20:07:11,455 : INFO : EPOCH 4 - PROGRESS: at 86.25% examples, 418283 words/s, in_qsize 8, out_qsize 0\n"
     ]
    },
    {
     "name": "stderr",
     "output_type": "stream",
     "text": [
      "2021-01-05 20:07:12,464 : INFO : EPOCH 4 - PROGRESS: at 89.91% examples, 420280 words/s, in_qsize 6, out_qsize 1\n",
      "2021-01-05 20:07:13,470 : INFO : EPOCH 4 - PROGRESS: at 93.34% examples, 420859 words/s, in_qsize 7, out_qsize 0\n",
      "2021-01-05 20:07:14,478 : INFO : EPOCH 4 - PROGRESS: at 97.18% examples, 423131 words/s, in_qsize 7, out_qsize 0\n",
      "2021-01-05 20:07:15,195 : INFO : worker thread finished; awaiting finish of 3 more threads\n",
      "2021-01-05 20:07:15,209 : INFO : worker thread finished; awaiting finish of 2 more threads\n",
      "2021-01-05 20:07:15,226 : INFO : worker thread finished; awaiting finish of 1 more threads\n",
      "2021-01-05 20:07:15,236 : INFO : worker thread finished; awaiting finish of 0 more threads\n",
      "2021-01-05 20:07:15,238 : INFO : EPOCH - 4 : training on 17798269 raw words (12871390 effective words) took 30.3s, 424667 effective words/s\n",
      "2021-01-05 20:07:16,279 : INFO : EPOCH 5 - PROGRESS: at 3.70% examples, 468430 words/s, in_qsize 7, out_qsize 0\n",
      "2021-01-05 20:07:17,285 : INFO : EPOCH 5 - PROGRESS: at 6.62% examples, 420941 words/s, in_qsize 7, out_qsize 0\n",
      "2021-01-05 20:07:18,296 : INFO : EPOCH 5 - PROGRESS: at 10.20% examples, 430515 words/s, in_qsize 7, out_qsize 0\n",
      "2021-01-05 20:07:19,315 : INFO : EPOCH 5 - PROGRESS: at 13.94% examples, 440101 words/s, in_qsize 8, out_qsize 1\n",
      "2021-01-05 20:07:20,325 : INFO : EPOCH 5 - PROGRESS: at 17.59% examples, 443474 words/s, in_qsize 8, out_qsize 0\n",
      "2021-01-05 20:07:21,343 : INFO : EPOCH 5 - PROGRESS: at 21.24% examples, 446435 words/s, in_qsize 8, out_qsize 0\n",
      "2021-01-05 20:07:22,349 : INFO : EPOCH 5 - PROGRESS: at 24.73% examples, 446380 words/s, in_qsize 7, out_qsize 0\n",
      "2021-01-05 20:07:23,374 : INFO : EPOCH 5 - PROGRESS: at 28.48% examples, 449557 words/s, in_qsize 8, out_qsize 0\n",
      "2021-01-05 20:07:24,382 : INFO : EPOCH 5 - PROGRESS: at 31.91% examples, 447329 words/s, in_qsize 7, out_qsize 0\n",
      "2021-01-05 20:07:25,397 : INFO : EPOCH 5 - PROGRESS: at 35.67% examples, 450238 words/s, in_qsize 7, out_qsize 0\n",
      "2021-01-05 20:07:26,409 : INFO : EPOCH 5 - PROGRESS: at 39.48% examples, 453391 words/s, in_qsize 7, out_qsize 0\n",
      "2021-01-05 20:07:27,419 : INFO : EPOCH 5 - PROGRESS: at 42.58% examples, 448950 words/s, in_qsize 7, out_qsize 0\n",
      "2021-01-05 20:07:28,430 : INFO : EPOCH 5 - PROGRESS: at 46.06% examples, 448485 words/s, in_qsize 7, out_qsize 0\n",
      "2021-01-05 20:07:29,439 : INFO : EPOCH 5 - PROGRESS: at 49.77% examples, 450699 words/s, in_qsize 8, out_qsize 0\n",
      "2021-01-05 20:07:30,468 : INFO : EPOCH 5 - PROGRESS: at 53.44% examples, 451098 words/s, in_qsize 6, out_qsize 1\n",
      "2021-01-05 20:07:31,477 : INFO : EPOCH 5 - PROGRESS: at 56.76% examples, 449721 words/s, in_qsize 7, out_qsize 0\n",
      "2021-01-05 20:07:32,485 : INFO : EPOCH 5 - PROGRESS: at 60.12% examples, 448971 words/s, in_qsize 8, out_qsize 2\n",
      "2021-01-05 20:07:33,495 : INFO : EPOCH 5 - PROGRESS: at 63.67% examples, 449075 words/s, in_qsize 7, out_qsize 0\n",
      "2021-01-05 20:07:34,503 : INFO : EPOCH 5 - PROGRESS: at 66.95% examples, 447677 words/s, in_qsize 7, out_qsize 0\n",
      "2021-01-05 20:07:35,548 : INFO : EPOCH 5 - PROGRESS: at 70.16% examples, 444864 words/s, in_qsize 7, out_qsize 0\n",
      "2021-01-05 20:07:36,566 : INFO : EPOCH 5 - PROGRESS: at 73.39% examples, 443297 words/s, in_qsize 7, out_qsize 0\n",
      "2021-01-05 20:07:37,601 : INFO : EPOCH 5 - PROGRESS: at 76.66% examples, 441501 words/s, in_qsize 8, out_qsize 1\n",
      "2021-01-05 20:07:38,642 : INFO : EPOCH 5 - PROGRESS: at 79.69% examples, 438540 words/s, in_qsize 7, out_qsize 0\n",
      "2021-01-05 20:07:39,650 : INFO : EPOCH 5 - PROGRESS: at 82.77% examples, 436681 words/s, in_qsize 7, out_qsize 0\n",
      "2021-01-05 20:07:40,651 : INFO : EPOCH 5 - PROGRESS: at 85.79% examples, 434836 words/s, in_qsize 7, out_qsize 0\n",
      "2021-01-05 20:07:41,652 : INFO : EPOCH 5 - PROGRESS: at 89.09% examples, 434466 words/s, in_qsize 7, out_qsize 0\n",
      "2021-01-05 20:07:42,675 : INFO : EPOCH 5 - PROGRESS: at 91.87% examples, 431422 words/s, in_qsize 7, out_qsize 0\n",
      "2021-01-05 20:07:43,705 : INFO : EPOCH 5 - PROGRESS: at 94.94% examples, 429486 words/s, in_qsize 7, out_qsize 1\n",
      "2021-01-05 20:07:44,707 : INFO : EPOCH 5 - PROGRESS: at 98.29% examples, 429611 words/s, in_qsize 7, out_qsize 0\n",
      "2021-01-05 20:07:45,202 : INFO : worker thread finished; awaiting finish of 3 more threads\n",
      "2021-01-05 20:07:45,209 : INFO : worker thread finished; awaiting finish of 2 more threads\n",
      "2021-01-05 20:07:45,256 : INFO : worker thread finished; awaiting finish of 1 more threads\n",
      "2021-01-05 20:07:45,258 : INFO : worker thread finished; awaiting finish of 0 more threads\n",
      "2021-01-05 20:07:45,259 : INFO : EPOCH - 5 : training on 17798269 raw words (12873168 effective words) took 30.0s, 429128 effective words/s\n",
      "2021-01-05 20:07:45,261 : INFO : training on a 88991345 raw words (64363476 effective words) took 153.3s, 419731 effective words/s\n"
     ]
    },
    {
     "data": {
      "text/plain": [
       "<gensim.models.word2vec.Word2Vec at 0x1c9b32b2a90>"
      ]
     },
     "execution_count": 31,
     "metadata": {},
     "output_type": "execute_result"
    }
   ],
   "source": [
    "#파라미터값 지장\n",
    "num_features = 300 # 문자 벡터 차원 수\n",
    "min_word_count = 40 # 최소 문자 수\n",
    "num_workers = 4 # 병렬 처리 스레드 수\n",
    "context = 10 # 문자열 창 크기\n",
    "downsampling = 1e-3 # 문자 빈도 수 Downsample\n",
    "\n",
    "# 초기화 및 모델 학습\n",
    "from gensim.models import word2vec\n",
    "\n",
    "# 모델학습\n",
    "\n",
    "model = word2vec.Word2Vec(sentences,\n",
    "                         workers=num_workers,\n",
    "                         size=num_features,\n",
    "                         min_count=min_word_count,\n",
    "                         window=context,\n",
    "                         sample=downsampling)\n",
    "\n",
    "model"
   ]
  },
  {
   "cell_type": "code",
   "execution_count": 32,
   "metadata": {},
   "outputs": [
    {
     "name": "stderr",
     "output_type": "stream",
     "text": [
      "2021-01-05 20:07:58,175 : INFO : precomputing L2-norms of word weight vectors\n",
      "2021-01-05 20:07:58,193 : INFO : saving Word2Vec object under 300features_40minwords_10text, separately None\n",
      "2021-01-05 20:07:58,195 : INFO : not storing attribute vectors_norm\n",
      "2021-01-05 20:07:58,196 : INFO : not storing attribute cum_table\n",
      "2021-01-05 20:07:58,554 : INFO : saved 300features_40minwords_10text\n"
     ]
    }
   ],
   "source": [
    "model.init_sims(replace=True)\n",
    "\n",
    "model_name = '300features_40minwords_10text'\n",
    "\n",
    "model.save(model_name)"
   ]
  },
  {
   "cell_type": "markdown",
   "metadata": {},
   "source": [
    "# 모델 결과 탐색"
   ]
  },
  {
   "cell_type": "code",
   "execution_count": 33,
   "metadata": {},
   "outputs": [
    {
     "data": {
      "text/plain": [
       "'kitchen'"
      ]
     },
     "execution_count": 33,
     "metadata": {},
     "output_type": "execute_result"
    }
   ],
   "source": [
    "# 유사도가 없는 단어 추출\n",
    "model.wv.doesnt_match('man woman child kitchen'.split())"
   ]
  },
  {
   "cell_type": "code",
   "execution_count": 34,
   "metadata": {},
   "outputs": [
    {
     "name": "stderr",
     "output_type": "stream",
     "text": [
      "2021-01-05 20:09:41,839 : WARNING : vectors for words {'france', 'germany'} are not present in the model, ignoring these words\n"
     ]
    },
    {
     "data": {
      "text/plain": [
       "'berlin'"
      ]
     },
     "execution_count": 34,
     "metadata": {},
     "output_type": "execute_result"
    }
   ],
   "source": [
    "model.wv.doesnt_match('france england germany berlin'.split())"
   ]
  },
  {
   "cell_type": "code",
   "execution_count": 35,
   "metadata": {},
   "outputs": [
    {
     "data": {
      "text/plain": [
       "[('woman', 0.6373927593231201),\n",
       " ('ladi', 0.5230792760848999),\n",
       " ('lad', 0.5167667865753174),\n",
       " ('businessman', 0.5078990459442139),\n",
       " ('millionair', 0.49138742685317993),\n",
       " ('widow', 0.4746547043323517),\n",
       " ('loner', 0.473690927028656),\n",
       " ('monk', 0.4661861062049866),\n",
       " ('priest', 0.4657939672470093),\n",
       " ('men', 0.4644802510738373)]"
      ]
     },
     "execution_count": 35,
     "metadata": {},
     "output_type": "execute_result"
    }
   ],
   "source": [
    "# 가장 유사한 단어를 추출\n",
    "model.wv.most_similar('man')"
   ]
  },
  {
   "cell_type": "code",
   "execution_count": 36,
   "metadata": {},
   "outputs": [
    {
     "data": {
      "text/plain": [
       "[('princess', 0.6041579246520996),\n",
       " ('latifah', 0.5598755478858948),\n",
       " ('stepmoth', 0.5570573806762695),\n",
       " ('regina', 0.5569071173667908),\n",
       " ('anita', 0.5508372187614441),\n",
       " ('mistress', 0.537002682685852),\n",
       " ('madam', 0.5365299582481384),\n",
       " ('goddess', 0.5354804396629333),\n",
       " ('victoria', 0.5343141555786133),\n",
       " ('bride', 0.5279973745346069)]"
      ]
     },
     "execution_count": 36,
     "metadata": {},
     "output_type": "execute_result"
    }
   ],
   "source": [
    "model.wv.most_similar('queen')"
   ]
  },
  {
   "cell_type": "code",
   "execution_count": 37,
   "metadata": {},
   "outputs": [
    {
     "data": {
      "text/plain": [
       "[('movi', 0.8565158247947693),\n",
       " ('flick', 0.6181420087814331),\n",
       " ('documentari', 0.5710906386375427),\n",
       " ('pictur', 0.5406773686408997),\n",
       " ('cinema', 0.5260050892829895),\n",
       " ('masterpiec', 0.5161775350570679),\n",
       " ('it', 0.4896256923675537),\n",
       " ('thriller', 0.47950029373168945),\n",
       " ('effort', 0.47850722074508667),\n",
       " ('sequel', 0.4757799208164215)]"
      ]
     },
     "execution_count": 37,
     "metadata": {},
     "output_type": "execute_result"
    }
   ],
   "source": [
    "model.wv.most_similar('film')"
   ]
  },
  {
   "cell_type": "code",
   "execution_count": 39,
   "metadata": {},
   "outputs": [
    {
     "data": {
      "text/plain": [
       "[('unhappi', 0.46946507692337036),\n",
       " ('happier', 0.41384604573249817),\n",
       " ('sad', 0.40623822808265686),\n",
       " ('satisfi', 0.39436522126197815),\n",
       " ('bitter', 0.37866586446762085),\n",
       " ('upset', 0.3694349527359009),\n",
       " ('downbeat', 0.36539047956466675),\n",
       " ('lucki', 0.3648567497730255),\n",
       " ('proud', 0.36119621992111206),\n",
       " ('afraid', 0.3600578308105469)]"
      ]
     },
     "execution_count": 39,
     "metadata": {},
     "output_type": "execute_result"
    }
   ],
   "source": [
    "model.wv.most_similar('happi') # happy stemming 처리하면 happi"
   ]
  },
  {
   "cell_type": "markdown",
   "metadata": {},
   "source": [
    "# Word2Vec으로 벡터화 한 단어를 t-SNE를 통해 시각화"
   ]
  },
  {
   "cell_type": "code",
   "execution_count": 40,
   "metadata": {},
   "outputs": [
    {
     "name": "stderr",
     "output_type": "stream",
     "text": [
      "2021-01-05 20:15:09,661 : INFO : loading Doc2Vec object from 300features_40minwords_10text\n",
      "2021-01-05 20:15:09,984 : INFO : loading wv recursively from 300features_40minwords_10text.wv.* with mmap=None\n",
      "2021-01-05 20:15:09,986 : INFO : setting ignored attribute vectors_norm to None\n",
      "2021-01-05 20:15:09,987 : INFO : loading vocabulary recursively from 300features_40minwords_10text.vocabulary.* with mmap=None\n",
      "2021-01-05 20:15:09,989 : INFO : loading trainables recursively from 300features_40minwords_10text.trainables.* with mmap=None\n",
      "2021-01-05 20:15:09,990 : INFO : setting ignored attribute cum_table to None\n",
      "2021-01-05 20:15:09,991 : INFO : loaded 300features_40minwords_10text\n"
     ]
    },
    {
     "name": "stdout",
     "output_type": "stream",
     "text": [
      "11986\n",
      "[ 0.02387295  0.02522435 -0.01903117  0.01894578 -0.03913022 -0.00762277\n",
      "  0.04539006  0.04895692  0.01244342 -0.02719028]\n"
     ]
    }
   ],
   "source": [
    "from sklearn.manifold import TSNE\n",
    "import matplotlib as mpl\n",
    "import matplotlib.pyplot as plt\n",
    "import gensim\n",
    "import gensim.models as g\n",
    "\n",
    "mpl.rcParams['axes.unicode_minus'] = False\n",
    "\n",
    "model_name = '300features_40minwords_10text'\n",
    "model = g.Doc2Vec.load(model_name)\n",
    "\n",
    "vocab = list(model.wv.vocab)\n",
    "X = model[vocab]\n",
    "\n",
    "print(len(X))\n",
    "print(X[0][:10])\n",
    "tsne = TSNE(n_components=2)\n",
    "\n",
    "X_tsne = tsne.fit_transform(X[:100,:])"
   ]
  },
  {
   "cell_type": "code",
   "execution_count": 41,
   "metadata": {},
   "outputs": [
    {
     "data": {
      "text/plain": [
       "(100, 2)"
      ]
     },
     "execution_count": 41,
     "metadata": {},
     "output_type": "execute_result"
    }
   ],
   "source": [
    "df = pd.DataFrame(X_tsne, index=vocab[:100],columns=['x','y'])\n",
    "df.shape"
   ]
  },
  {
   "cell_type": "code",
   "execution_count": 42,
   "metadata": {},
   "outputs": [
    {
     "data": {
      "text/html": [
       "<div>\n",
       "<style scoped>\n",
       "    .dataframe tbody tr th:only-of-type {\n",
       "        vertical-align: middle;\n",
       "    }\n",
       "\n",
       "    .dataframe tbody tr th {\n",
       "        vertical-align: top;\n",
       "    }\n",
       "\n",
       "    .dataframe thead th {\n",
       "        text-align: right;\n",
       "    }\n",
       "</style>\n",
       "<table border=\"1\" class=\"dataframe\">\n",
       "  <thead>\n",
       "    <tr style=\"text-align: right;\">\n",
       "      <th></th>\n",
       "      <th>x</th>\n",
       "      <th>y</th>\n",
       "    </tr>\n",
       "  </thead>\n",
       "  <tbody>\n",
       "    <tr>\n",
       "      <th>with</th>\n",
       "      <td>-7.823493</td>\n",
       "      <td>2.143704</td>\n",
       "    </tr>\n",
       "    <tr>\n",
       "      <th>all</th>\n",
       "      <td>-0.456288</td>\n",
       "      <td>-5.994423</td>\n",
       "    </tr>\n",
       "    <tr>\n",
       "      <th>this</th>\n",
       "      <td>-1.771103</td>\n",
       "      <td>-6.141992</td>\n",
       "    </tr>\n",
       "    <tr>\n",
       "      <th>stuff</th>\n",
       "      <td>1.271217</td>\n",
       "      <td>-2.768752</td>\n",
       "    </tr>\n",
       "    <tr>\n",
       "      <th>go</th>\n",
       "      <td>-5.128608</td>\n",
       "      <td>-0.324557</td>\n",
       "    </tr>\n",
       "    <tr>\n",
       "      <th>down</th>\n",
       "      <td>-11.025084</td>\n",
       "      <td>0.145624</td>\n",
       "    </tr>\n",
       "    <tr>\n",
       "      <th>at</th>\n",
       "      <td>-8.933116</td>\n",
       "      <td>-0.237330</td>\n",
       "    </tr>\n",
       "    <tr>\n",
       "      <th>the</th>\n",
       "      <td>0.954434</td>\n",
       "      <td>-5.214700</td>\n",
       "    </tr>\n",
       "    <tr>\n",
       "      <th>moment</th>\n",
       "      <td>1.903192</td>\n",
       "      <td>-11.029576</td>\n",
       "    </tr>\n",
       "    <tr>\n",
       "      <th>mj</th>\n",
       "      <td>6.699393</td>\n",
       "      <td>-1.359169</td>\n",
       "    </tr>\n",
       "  </tbody>\n",
       "</table>\n",
       "</div>"
      ],
      "text/plain": [
       "                x          y\n",
       "with    -7.823493   2.143704\n",
       "all     -0.456288  -5.994423\n",
       "this    -1.771103  -6.141992\n",
       "stuff    1.271217  -2.768752\n",
       "go      -5.128608  -0.324557\n",
       "down   -11.025084   0.145624\n",
       "at      -8.933116  -0.237330\n",
       "the      0.954434  -5.214700\n",
       "moment   1.903192 -11.029576\n",
       "mj       6.699393  -1.359169"
      ]
     },
     "execution_count": 42,
     "metadata": {},
     "output_type": "execute_result"
    }
   ],
   "source": [
    "df.head(10)"
   ]
  },
  {
   "cell_type": "code",
   "execution_count": 43,
   "metadata": {
    "scrolled": true
   },
   "outputs": [
    {
     "data": {
      "image/png": "[encoded data removed]",
      "text/plain": [
       "<Figure size 2880x1440 with 1 Axes>"
      ]
     },
     "metadata": {
      "needs_background": "light"
     },
     "output_type": "display_data"
    }
   ],
   "source": [
    "fig = plt.figure()\n",
    "fig.set_size_inches(40,20)\n",
    "ax = fig.add_subplot(1,1,1)\n",
    "\n",
    "ax.scatter(df['x'],df['y'])\n",
    "\n",
    "for word, pos in df.iterrows():\n",
    "    ax.annotate(word, pos, fontsize=30)\n",
    "\n",
    "plt.show()"
   ]
  },
  {
   "cell_type": "code",
   "execution_count": 44,
   "metadata": {},
   "outputs": [],
   "source": [
    "import numpy as np\n",
    "\n",
    "def makeFeatureVec(words, model, num_features):\n",
    "    # 주어진 문장에서 단어 벡터의 평균을 구하는 함수\n",
    "    # 속도를 위해 0으로 채운 배열로 초기화 한다.\n",
    "    featureVec = np.zeros((num_features,),dtype='float32')\n",
    "    \n",
    "    nwords=0\n",
    "    # Index2word는 모델의 사전에 있는 단어명을 담은 리스트이다.\n",
    "    # 속도를 위해 set 형태로 초기화 한다.\n",
    "    index2word_set = set(model.wv.index2word)\n",
    "    # 루프를 돌며 모델 사전에 포함이 되는 단어라면 피처에 추가한다.\n",
    "    for word in words:\n",
    "        if word in index2word_set:\n",
    "            nwords = nwords +1.\n",
    "            featureVec = np.add(featureVec,model[word])\n",
    "        #결과를 단어수로 나누어 평균을 구한다.\n",
    "        featureVec = np.divide(featureVec,nwords)\n",
    "        return featureVec"
   ]
  },
  {
   "cell_type": "code",
   "execution_count": 45,
   "metadata": {},
   "outputs": [],
   "source": [
    "def getAvgFeatureVecs(reviews, model, num_features):\n",
    "    # 리뷰 단어 목록의 각각에 대한 평균 feature 벡터를 계산하고 \n",
    "    # 2D numpy 배열을 반환한다.\n",
    "    \n",
    "    # 카운터를 초기화 한다.\n",
    "    counter = 0.\n",
    "    # 속도를 위해 2D 넘파이 배열을 미리 할당한다.\n",
    "    reviewFeatureVecs = np.zeros(\n",
    "        (len(reviews),num_features),dtype=\"float32\")\n",
    "    \n",
    "    for review in reviews:\n",
    "       # 매 1000개 리뷰마다 상태를 출력\n",
    "       if counter%1000. == 0.:\n",
    "           print(\"Review %d of %d\" % (counter, len(reviews)))\n",
    "       # 평균 피처 벡터를 만들기 위해 위에서 정의한 함수를 호출한다.\n",
    "       reviewFeatureVecs[int(counter)] = makeFeatureVec(review, model, \\\n",
    "           num_features)\n",
    "       # 카운터를 증가시킨다.\n",
    "       counter = counter + 1.\n",
    "    return reviewFeatureVecs"
   ]
  },
  {
   "cell_type": "code",
   "execution_count": 46,
   "metadata": {},
   "outputs": [],
   "source": [
    "# 멀티스레드로 4개의 워커를 사용해 처리한다.\n",
    "def getCleanReviews(reviews):\n",
    "    clean_reviews = []\n",
    "    clean_reviews = KaggleWord2VecUtility.apply_by_multiprocessing(\\\n",
    "        reviews[\"review\"], KaggleWord2VecUtility.review_to_wordlist,\\\n",
    "        workers=4)\n",
    "    return clean_reviews"
   ]
  },
  {
   "cell_type": "code",
   "execution_count": 47,
   "metadata": {},
   "outputs": [
    {
     "name": "stdout",
     "output_type": "stream",
     "text": [
      "Review 0 of 25000\n",
      "Review 1000 of 25000\n",
      "Review 2000 of 25000\n",
      "Review 3000 of 25000\n",
      "Review 4000 of 25000\n",
      "Review 5000 of 25000\n",
      "Review 6000 of 25000\n",
      "Review 7000 of 25000\n",
      "Review 8000 of 25000\n",
      "Review 9000 of 25000\n",
      "Review 10000 of 25000\n",
      "Review 11000 of 25000\n",
      "Review 12000 of 25000\n",
      "Review 13000 of 25000\n",
      "Review 14000 of 25000\n",
      "Review 15000 of 25000\n",
      "Review 16000 of 25000\n",
      "Review 17000 of 25000\n",
      "Review 18000 of 25000\n",
      "Review 19000 of 25000\n",
      "Review 20000 of 25000\n",
      "Review 21000 of 25000\n",
      "Review 22000 of 25000\n",
      "Review 23000 of 25000\n",
      "Review 24000 of 25000\n",
      "Wall time: 1min 46s\n"
     ]
    }
   ],
   "source": [
    "%time trainDataVecs = getAvgFeatureVecs(\\\n",
    "    getCleanReviews(train), model, num_features )"
   ]
  },
  {
   "cell_type": "code",
   "execution_count": 48,
   "metadata": {},
   "outputs": [
    {
     "name": "stdout",
     "output_type": "stream",
     "text": [
      "Review 0 of 25000\n",
      "Review 1000 of 25000\n",
      "Review 2000 of 25000\n",
      "Review 3000 of 25000\n",
      "Review 4000 of 25000\n",
      "Review 5000 of 25000\n",
      "Review 6000 of 25000\n",
      "Review 7000 of 25000\n",
      "Review 8000 of 25000\n",
      "Review 9000 of 25000\n",
      "Review 10000 of 25000\n",
      "Review 11000 of 25000\n",
      "Review 12000 of 25000\n",
      "Review 13000 of 25000\n",
      "Review 14000 of 25000\n",
      "Review 15000 of 25000\n",
      "Review 16000 of 25000\n",
      "Review 17000 of 25000\n",
      "Review 18000 of 25000\n",
      "Review 19000 of 25000\n",
      "Review 20000 of 25000\n",
      "Review 21000 of 25000\n",
      "Review 22000 of 25000\n",
      "Review 23000 of 25000\n",
      "Review 24000 of 25000\n",
      "Wall time: 1min 44s\n"
     ]
    }
   ],
   "source": [
    "%time testDataVecs = getAvgFeatureVecs(\\\n",
    "        getCleanReviews(test), model, num_features )"
   ]
  },
  {
   "cell_type": "code",
   "execution_count": 57,
   "metadata": {},
   "outputs": [],
   "source": [
    "from sklearn.ensemble import RandomForestClassifier\n",
    "\n",
    "forest = RandomForestClassifier(\n",
    "    n_estimators = 100, n_jobs = -1, random_state=2018)"
   ]
  },
  {
   "cell_type": "code",
   "execution_count": 58,
   "metadata": {},
   "outputs": [
    {
     "data": {
      "text/plain": [
       "(25000, 300)"
      ]
     },
     "execution_count": 58,
     "metadata": {},
     "output_type": "execute_result"
    }
   ],
   "source": [
    "trainDataVecs.shape"
   ]
  },
  {
   "cell_type": "code",
   "execution_count": 63,
   "metadata": {},
   "outputs": [],
   "source": [
    "df2 = pd.DataFrame(trainDataVecs)"
   ]
  },
  {
   "cell_type": "code",
   "execution_count": 77,
   "metadata": {},
   "outputs": [
    {
     "data": {
      "text/html": [
       "<div>\n",
       "<style scoped>\n",
       "    .dataframe tbody tr th:only-of-type {\n",
       "        vertical-align: middle;\n",
       "    }\n",
       "\n",
       "    .dataframe tbody tr th {\n",
       "        vertical-align: top;\n",
       "    }\n",
       "\n",
       "    .dataframe thead th {\n",
       "        text-align: right;\n",
       "    }\n",
       "</style>\n",
       "<table border=\"1\" class=\"dataframe\">\n",
       "  <thead>\n",
       "    <tr style=\"text-align: right;\">\n",
       "      <th></th>\n",
       "      <th>0</th>\n",
       "      <th>1</th>\n",
       "      <th>2</th>\n",
       "      <th>3</th>\n",
       "      <th>4</th>\n",
       "      <th>5</th>\n",
       "      <th>6</th>\n",
       "      <th>7</th>\n",
       "      <th>8</th>\n",
       "      <th>9</th>\n",
       "      <th>...</th>\n",
       "      <th>290</th>\n",
       "      <th>291</th>\n",
       "      <th>292</th>\n",
       "      <th>293</th>\n",
       "      <th>294</th>\n",
       "      <th>295</th>\n",
       "      <th>296</th>\n",
       "      <th>297</th>\n",
       "      <th>298</th>\n",
       "      <th>299</th>\n",
       "    </tr>\n",
       "  </thead>\n",
       "  <tbody>\n",
       "    <tr>\n",
       "      <th>0</th>\n",
       "      <td>0.023873</td>\n",
       "      <td>0.025224</td>\n",
       "      <td>-0.019031</td>\n",
       "      <td>0.018946</td>\n",
       "      <td>-0.039130</td>\n",
       "      <td>-0.007623</td>\n",
       "      <td>0.045390</td>\n",
       "      <td>0.048957</td>\n",
       "      <td>0.012443</td>\n",
       "      <td>-0.027190</td>\n",
       "      <td>...</td>\n",
       "      <td>0.073024</td>\n",
       "      <td>0.067199</td>\n",
       "      <td>0.030552</td>\n",
       "      <td>0.058788</td>\n",
       "      <td>0.070577</td>\n",
       "      <td>0.031748</td>\n",
       "      <td>-0.005197</td>\n",
       "      <td>0.086462</td>\n",
       "      <td>0.022058</td>\n",
       "      <td>-0.113522</td>\n",
       "    </tr>\n",
       "    <tr>\n",
       "      <th>1</th>\n",
       "      <td>-0.030591</td>\n",
       "      <td>-0.054414</td>\n",
       "      <td>-0.022152</td>\n",
       "      <td>-0.008689</td>\n",
       "      <td>0.135823</td>\n",
       "      <td>-0.031899</td>\n",
       "      <td>0.136977</td>\n",
       "      <td>0.004829</td>\n",
       "      <td>-0.063699</td>\n",
       "      <td>-0.028015</td>\n",
       "      <td>...</td>\n",
       "      <td>0.053437</td>\n",
       "      <td>-0.020744</td>\n",
       "      <td>0.059579</td>\n",
       "      <td>-0.013628</td>\n",
       "      <td>-0.145848</td>\n",
       "      <td>-0.093937</td>\n",
       "      <td>-0.141649</td>\n",
       "      <td>0.032671</td>\n",
       "      <td>0.053658</td>\n",
       "      <td>0.082947</td>\n",
       "    </tr>\n",
       "    <tr>\n",
       "      <th>2</th>\n",
       "      <td>-0.030591</td>\n",
       "      <td>-0.054414</td>\n",
       "      <td>-0.022152</td>\n",
       "      <td>-0.008689</td>\n",
       "      <td>0.135823</td>\n",
       "      <td>-0.031899</td>\n",
       "      <td>0.136977</td>\n",
       "      <td>0.004829</td>\n",
       "      <td>-0.063699</td>\n",
       "      <td>-0.028015</td>\n",
       "      <td>...</td>\n",
       "      <td>0.053437</td>\n",
       "      <td>-0.020744</td>\n",
       "      <td>0.059579</td>\n",
       "      <td>-0.013628</td>\n",
       "      <td>-0.145848</td>\n",
       "      <td>-0.093937</td>\n",
       "      <td>-0.141649</td>\n",
       "      <td>0.032671</td>\n",
       "      <td>0.053658</td>\n",
       "      <td>0.082947</td>\n",
       "    </tr>\n",
       "    <tr>\n",
       "      <th>3</th>\n",
       "      <td>-0.017595</td>\n",
       "      <td>0.028927</td>\n",
       "      <td>-0.137168</td>\n",
       "      <td>0.035997</td>\n",
       "      <td>0.096999</td>\n",
       "      <td>0.006385</td>\n",
       "      <td>0.022152</td>\n",
       "      <td>-0.077057</td>\n",
       "      <td>-0.034346</td>\n",
       "      <td>0.110116</td>\n",
       "      <td>...</td>\n",
       "      <td>-0.029471</td>\n",
       "      <td>0.026843</td>\n",
       "      <td>-0.049511</td>\n",
       "      <td>-0.059272</td>\n",
       "      <td>-0.051995</td>\n",
       "      <td>-0.025550</td>\n",
       "      <td>-0.052697</td>\n",
       "      <td>-0.098140</td>\n",
       "      <td>0.020922</td>\n",
       "      <td>0.063817</td>\n",
       "    </tr>\n",
       "    <tr>\n",
       "      <th>4</th>\n",
       "      <td>0.128187</td>\n",
       "      <td>-0.088547</td>\n",
       "      <td>0.021460</td>\n",
       "      <td>-0.124619</td>\n",
       "      <td>-0.095146</td>\n",
       "      <td>-0.067326</td>\n",
       "      <td>-0.081853</td>\n",
       "      <td>0.030753</td>\n",
       "      <td>0.040465</td>\n",
       "      <td>-0.127381</td>\n",
       "      <td>...</td>\n",
       "      <td>-0.029566</td>\n",
       "      <td>-0.002377</td>\n",
       "      <td>0.064924</td>\n",
       "      <td>0.052448</td>\n",
       "      <td>0.089898</td>\n",
       "      <td>0.010364</td>\n",
       "      <td>-0.011035</td>\n",
       "      <td>0.080543</td>\n",
       "      <td>-0.049844</td>\n",
       "      <td>-0.054742</td>\n",
       "    </tr>\n",
       "    <tr>\n",
       "      <th>...</th>\n",
       "      <td>...</td>\n",
       "      <td>...</td>\n",
       "      <td>...</td>\n",
       "      <td>...</td>\n",
       "      <td>...</td>\n",
       "      <td>...</td>\n",
       "      <td>...</td>\n",
       "      <td>...</td>\n",
       "      <td>...</td>\n",
       "      <td>...</td>\n",
       "      <td>...</td>\n",
       "      <td>...</td>\n",
       "      <td>...</td>\n",
       "      <td>...</td>\n",
       "      <td>...</td>\n",
       "      <td>...</td>\n",
       "      <td>...</td>\n",
       "      <td>...</td>\n",
       "      <td>...</td>\n",
       "      <td>...</td>\n",
       "      <td>...</td>\n",
       "    </tr>\n",
       "    <tr>\n",
       "      <th>24995</th>\n",
       "      <td>-0.017595</td>\n",
       "      <td>0.028927</td>\n",
       "      <td>-0.137168</td>\n",
       "      <td>0.035997</td>\n",
       "      <td>0.096999</td>\n",
       "      <td>0.006385</td>\n",
       "      <td>0.022152</td>\n",
       "      <td>-0.077057</td>\n",
       "      <td>-0.034346</td>\n",
       "      <td>0.110116</td>\n",
       "      <td>...</td>\n",
       "      <td>-0.029471</td>\n",
       "      <td>0.026843</td>\n",
       "      <td>-0.049511</td>\n",
       "      <td>-0.059272</td>\n",
       "      <td>-0.051995</td>\n",
       "      <td>-0.025550</td>\n",
       "      <td>-0.052697</td>\n",
       "      <td>-0.098140</td>\n",
       "      <td>0.020922</td>\n",
       "      <td>0.063817</td>\n",
       "    </tr>\n",
       "    <tr>\n",
       "      <th>24996</th>\n",
       "      <td>-0.015575</td>\n",
       "      <td>0.062331</td>\n",
       "      <td>-0.039283</td>\n",
       "      <td>0.045478</td>\n",
       "      <td>-0.023090</td>\n",
       "      <td>0.050974</td>\n",
       "      <td>0.020047</td>\n",
       "      <td>-0.068045</td>\n",
       "      <td>0.039562</td>\n",
       "      <td>0.060178</td>\n",
       "      <td>...</td>\n",
       "      <td>-0.038460</td>\n",
       "      <td>-0.064351</td>\n",
       "      <td>-0.073082</td>\n",
       "      <td>0.056354</td>\n",
       "      <td>0.068378</td>\n",
       "      <td>0.046663</td>\n",
       "      <td>0.024566</td>\n",
       "      <td>-0.066863</td>\n",
       "      <td>0.078141</td>\n",
       "      <td>0.032578</td>\n",
       "    </tr>\n",
       "    <tr>\n",
       "      <th>24997</th>\n",
       "      <td>-0.020619</td>\n",
       "      <td>-0.067671</td>\n",
       "      <td>-0.003750</td>\n",
       "      <td>-0.079890</td>\n",
       "      <td>0.030415</td>\n",
       "      <td>-0.039756</td>\n",
       "      <td>-0.080750</td>\n",
       "      <td>-0.079329</td>\n",
       "      <td>-0.050897</td>\n",
       "      <td>0.018048</td>\n",
       "      <td>...</td>\n",
       "      <td>0.055633</td>\n",
       "      <td>-0.142371</td>\n",
       "      <td>0.007375</td>\n",
       "      <td>-0.048280</td>\n",
       "      <td>-0.097264</td>\n",
       "      <td>-0.032455</td>\n",
       "      <td>-0.085993</td>\n",
       "      <td>0.008349</td>\n",
       "      <td>0.059820</td>\n",
       "      <td>-0.047223</td>\n",
       "    </tr>\n",
       "    <tr>\n",
       "      <th>24998</th>\n",
       "      <td>0.040113</td>\n",
       "      <td>-0.043943</td>\n",
       "      <td>-0.025657</td>\n",
       "      <td>0.058608</td>\n",
       "      <td>0.038287</td>\n",
       "      <td>0.048214</td>\n",
       "      <td>0.055383</td>\n",
       "      <td>-0.014273</td>\n",
       "      <td>-0.049837</td>\n",
       "      <td>0.009161</td>\n",
       "      <td>...</td>\n",
       "      <td>-0.021296</td>\n",
       "      <td>0.047884</td>\n",
       "      <td>-0.052958</td>\n",
       "      <td>-0.025422</td>\n",
       "      <td>-0.132588</td>\n",
       "      <td>-0.000172</td>\n",
       "      <td>-0.036214</td>\n",
       "      <td>-0.039244</td>\n",
       "      <td>0.014956</td>\n",
       "      <td>0.007842</td>\n",
       "    </tr>\n",
       "    <tr>\n",
       "      <th>24999</th>\n",
       "      <td>-0.015575</td>\n",
       "      <td>0.062331</td>\n",
       "      <td>-0.039283</td>\n",
       "      <td>0.045478</td>\n",
       "      <td>-0.023090</td>\n",
       "      <td>0.050974</td>\n",
       "      <td>0.020047</td>\n",
       "      <td>-0.068045</td>\n",
       "      <td>0.039562</td>\n",
       "      <td>0.060178</td>\n",
       "      <td>...</td>\n",
       "      <td>-0.038460</td>\n",
       "      <td>-0.064351</td>\n",
       "      <td>-0.073082</td>\n",
       "      <td>0.056354</td>\n",
       "      <td>0.068378</td>\n",
       "      <td>0.046663</td>\n",
       "      <td>0.024566</td>\n",
       "      <td>-0.066863</td>\n",
       "      <td>0.078141</td>\n",
       "      <td>0.032578</td>\n",
       "    </tr>\n",
       "  </tbody>\n",
       "</table>\n",
       "<p>25000 rows × 300 columns</p>\n",
       "</div>"
      ],
      "text/plain": [
       "            0         1         2         3         4         5         6    \\\n",
       "0      0.023873  0.025224 -0.019031  0.018946 -0.039130 -0.007623  0.045390   \n",
       "1     -0.030591 -0.054414 -0.022152 -0.008689  0.135823 -0.031899  0.136977   \n",
       "2     -0.030591 -0.054414 -0.022152 -0.008689  0.135823 -0.031899  0.136977   \n",
       "3     -0.017595  0.028927 -0.137168  0.035997  0.096999  0.006385  0.022152   \n",
       "4      0.128187 -0.088547  0.021460 -0.124619 -0.095146 -0.067326 -0.081853   \n",
       "...         ...       ...       ...       ...       ...       ...       ...   \n",
       "24995 -0.017595  0.028927 -0.137168  0.035997  0.096999  0.006385  0.022152   \n",
       "24996 -0.015575  0.062331 -0.039283  0.045478 -0.023090  0.050974  0.020047   \n",
       "24997 -0.020619 -0.067671 -0.003750 -0.079890  0.030415 -0.039756 -0.080750   \n",
       "24998  0.040113 -0.043943 -0.025657  0.058608  0.038287  0.048214  0.055383   \n",
       "24999 -0.015575  0.062331 -0.039283  0.045478 -0.023090  0.050974  0.020047   \n",
       "\n",
       "            7         8         9    ...       290       291       292  \\\n",
       "0      0.048957  0.012443 -0.027190  ...  0.073024  0.067199  0.030552   \n",
       "1      0.004829 -0.063699 -0.028015  ...  0.053437 -0.020744  0.059579   \n",
       "2      0.004829 -0.063699 -0.028015  ...  0.053437 -0.020744  0.059579   \n",
       "3     -0.077057 -0.034346  0.110116  ... -0.029471  0.026843 -0.049511   \n",
       "4      0.030753  0.040465 -0.127381  ... -0.029566 -0.002377  0.064924   \n",
       "...         ...       ...       ...  ...       ...       ...       ...   \n",
       "24995 -0.077057 -0.034346  0.110116  ... -0.029471  0.026843 -0.049511   \n",
       "24996 -0.068045  0.039562  0.060178  ... -0.038460 -0.064351 -0.073082   \n",
       "24997 -0.079329 -0.050897  0.018048  ...  0.055633 -0.142371  0.007375   \n",
       "24998 -0.014273 -0.049837  0.009161  ... -0.021296  0.047884 -0.052958   \n",
       "24999 -0.068045  0.039562  0.060178  ... -0.038460 -0.064351 -0.073082   \n",
       "\n",
       "            293       294       295       296       297       298       299  \n",
       "0      0.058788  0.070577  0.031748 -0.005197  0.086462  0.022058 -0.113522  \n",
       "1     -0.013628 -0.145848 -0.093937 -0.141649  0.032671  0.053658  0.082947  \n",
       "2     -0.013628 -0.145848 -0.093937 -0.141649  0.032671  0.053658  0.082947  \n",
       "3     -0.059272 -0.051995 -0.025550 -0.052697 -0.098140  0.020922  0.063817  \n",
       "4      0.052448  0.089898  0.010364 -0.011035  0.080543 -0.049844 -0.054742  \n",
       "...         ...       ...       ...       ...       ...       ...       ...  \n",
       "24995 -0.059272 -0.051995 -0.025550 -0.052697 -0.098140  0.020922  0.063817  \n",
       "24996  0.056354  0.068378  0.046663  0.024566 -0.066863  0.078141  0.032578  \n",
       "24997 -0.048280 -0.097264 -0.032455 -0.085993  0.008349  0.059820 -0.047223  \n",
       "24998 -0.025422 -0.132588 -0.000172 -0.036214 -0.039244  0.014956  0.007842  \n",
       "24999  0.056354  0.068378  0.046663  0.024566 -0.066863  0.078141  0.032578  \n",
       "\n",
       "[25000 rows x 300 columns]"
      ]
     },
     "execution_count": 77,
     "metadata": {},
     "output_type": "execute_result"
    }
   ],
   "source": [
    "df2.fillna(0)"
   ]
  },
  {
   "cell_type": "code",
   "execution_count": 78,
   "metadata": {},
   "outputs": [
    {
     "name": "stdout",
     "output_type": "stream",
     "text": [
      "Wall time: 14.6 s\n"
     ]
    }
   ],
   "source": [
    "%time forest = forest.fit( df2.fillna(0), train[\"sentiment\"] )"
   ]
  },
  {
   "cell_type": "code",
   "execution_count": 84,
   "metadata": {},
   "outputs": [],
   "source": [
    "df_test = pd.DataFrame(testDataVecs)"
   ]
  },
  {
   "cell_type": "code",
   "execution_count": 85,
   "metadata": {},
   "outputs": [],
   "source": [
    "df_test = df_test.fillna(0)"
   ]
  },
  {
   "cell_type": "code",
   "execution_count": 88,
   "metadata": {},
   "outputs": [
    {
     "name": "stdout",
     "output_type": "stream",
     "text": [
      "Wall time: 1min 49s\n"
     ]
    }
   ],
   "source": [
    "from sklearn.model_selection import cross_val_score\n",
    "\n",
    "%time score = np.mean(cross_val_score(forest,df2.fillna(0),\\\n",
    "                                     train['sentiment'],\\\n",
    "                                     cv=10,\\\n",
    "                                     scoring='roc_auc'))"
   ]
  },
  {
   "cell_type": "code",
   "execution_count": 89,
   "metadata": {},
   "outputs": [
    {
     "data": {
      "text/plain": [
       "0.590596608"
      ]
     },
     "execution_count": 89,
     "metadata": {},
     "output_type": "execute_result"
    }
   ],
   "source": [
    "score"
   ]
  },
  {
   "cell_type": "code",
   "execution_count": 90,
   "metadata": {},
   "outputs": [],
   "source": [
    "result = forest.predict(df_test)"
   ]
  },
  {
   "cell_type": "code",
   "execution_count": 91,
   "metadata": {},
   "outputs": [],
   "source": [
    "output = pd.DataFrame( data={\"id\":test[\"id\"], \"sentiment\":result} )\n",
    "output.to_csv('data/Word2Vec_AverageVectors_{0:.5f}.csv'.format(score), \n",
    "              index=False, quoting=3 )"
   ]
  },
  {
   "cell_type": "code",
   "execution_count": 92,
   "metadata": {},
   "outputs": [
    {
     "data": {
      "text/plain": [
       "0    14179\n",
       "1    10821\n",
       "Name: sentiment, dtype: int64"
      ]
     },
     "execution_count": 92,
     "metadata": {},
     "output_type": "execute_result"
    }
   ],
   "source": [
    "output_sentiment = output['sentiment'].value_counts()\n",
    "output_sentiment"
   ]
  },
  {
   "cell_type": "code",
   "execution_count": null,
   "metadata": {},
   "outputs": [],
   "source": []
  },
  {
   "cell_type": "code",
   "execution_count": null,
   "metadata": {},
   "outputs": [],
   "source": []
  }
 ],
 "metadata": {
  "hide_input": false,
  "kernelspec": {
   "display_name": "Python 3",
   "language": "python",
   "name": "python3"
  },
  "language_info": {
   "codemirror_mode": {
    "name": "ipython",
    "version": 3
   },
   "file_extension": ".py",
   "mimetype": "text/x-python",
   "name": "python",
   "nbconvert_exporter": "python",
   "pygments_lexer": "ipython3",
   "version": "3.8.3"
  },
  "toc": {
   "base_numbering": 1,
   "nav_menu": {},
   "number_sections": true,
   "sideBar": true,
   "skip_h1_title": false,
   "title_cell": "Table of Contents",
   "title_sidebar": "Contents",
   "toc_cell": false,
   "toc_position": {},
   "toc_section_display": true,
   "toc_window_display": false
  }
 },
 "nbformat": 4,
 "nbformat_minor": 4
}
